{
 "cells": [
  {
   "cell_type": "markdown",
   "metadata": {
    "colab_type": "text",
    "id": "cWDYyhjr1K4z"
   },
   "source": [
    "# Home 4: Build a seq2seq model for machine translation.\n",
    "\n",
    "### Name: [Taru Tak]\n",
    "\n",
    "### Task: Translate English to [Spanish]"
   ]
  },
  {
   "cell_type": "markdown",
   "metadata": {
    "colab_type": "text",
    "id": "WFySyV181K40"
   },
   "source": [
    "## 0. You will do the following:\n",
    "\n",
    "1. Read and run my code.\n",
    "2. Complete the code in Section 1.1 and Section 4.2.\n",
    "\n",
    "    * Translation English to **German** is not acceptable!!! Try another language.\n",
    "    \n",
    "3. **Make improvements.** Directly modify the code in Section 3. Do at least one of the followings. By doing more, you will get up to 2 bonus scores to the total.\n",
    "\n",
    "    * Bi-LSTM instead of LSTM\n",
    "    \n",
    "    * Multi-task learning (e.g., both English to French and English to Spanish)\n",
    "    \n",
    "    * Attention\n",
    "    \n",
    "4. Evaluate the translation using the BLEU score. \n",
    "\n",
    "    * Optional. Up to 2 bonus scores to the total.\n",
    "    \n",
    "5. Convert the notebook to .HTML file. \n",
    "\n",
    "    * The HTML file must contain the code and the output after execution.\n",
    "\n",
    "6. Put the .HTML file in your own Github repo. \n",
    "\n",
    "7. Submit the link to the HTML file to Canvas\n",
    "\n",
    "    * E.g., https://github.com/wangshusen/CS583A-2019Spring/blob/master/homework/HM4/seq2seq.html"
   ]
  },
  {
   "cell_type": "markdown",
   "metadata": {
    "colab_type": "text",
    "id": "7XrjHhRt1K40"
   },
   "source": [
    "#### Hint: To implement Bi-LSTM, you will need the following code to build the encoder; the decoder won't be much different."
   ]
  },
  {
   "cell_type": "code",
   "execution_count": 1,
   "metadata": {
    "colab": {
     "base_uri": "https://localhost:8080/",
     "height": 248
    },
    "colab_type": "code",
    "id": "zuekKtYg1K41",
    "outputId": "7a692fbf-37ff-4f1a-e49f-97ee80ca1caa"
   },
   "outputs": [
    {
     "name": "stderr",
     "output_type": "stream",
     "text": [
      "Using TensorFlow backend.\n"
     ]
    },
    {
     "ename": "NameError",
     "evalue": "ignored",
     "output_type": "error",
     "traceback": [
      "\u001b[0;31m---------------------------------------------------------------------------\u001b[0m",
      "\u001b[0;31mNameError\u001b[0m                                 Traceback (most recent call last)",
      "\u001b[0;32m<ipython-input-1-e9dacc840b2a>\u001b[0m in \u001b[0;36m<module>\u001b[0;34m()\u001b[0m\n\u001b[1;32m      1\u001b[0m \u001b[0;32mfrom\u001b[0m \u001b[0mkeras\u001b[0m\u001b[0;34m.\u001b[0m\u001b[0mlayers\u001b[0m \u001b[0;32mimport\u001b[0m \u001b[0mBidirectional\u001b[0m\u001b[0;34m,\u001b[0m \u001b[0mConcatenate\u001b[0m\u001b[0;34m\u001b[0m\u001b[0;34m\u001b[0m\u001b[0m\n\u001b[1;32m      2\u001b[0m \u001b[0;34m\u001b[0m\u001b[0m\n\u001b[0;32m----> 3\u001b[0;31m encoder_bilstm = Bidirectional(LSTM(latent_dim, return_state=True, \n\u001b[0m\u001b[1;32m      4\u001b[0m                                   dropout=0.5, name='encoder_lstm'))\n\u001b[1;32m      5\u001b[0m \u001b[0m_\u001b[0m\u001b[0;34m,\u001b[0m \u001b[0mforward_h\u001b[0m\u001b[0;34m,\u001b[0m \u001b[0mforward_c\u001b[0m\u001b[0;34m,\u001b[0m \u001b[0mbackward_h\u001b[0m\u001b[0;34m,\u001b[0m \u001b[0mbackward_c\u001b[0m \u001b[0;34m=\u001b[0m \u001b[0mencoder_bilstm\u001b[0m\u001b[0;34m(\u001b[0m\u001b[0mencoder_inputs\u001b[0m\u001b[0;34m)\u001b[0m\u001b[0;34m\u001b[0m\u001b[0;34m\u001b[0m\u001b[0m\n",
      "\u001b[0;31mNameError\u001b[0m: name 'LSTM' is not defined"
     ]
    }
   ],
   "source": [
    "from keras.layers import Bidirectional, Concatenate\n",
    "\n",
    "encoder_bilstm = Bidirectional(LSTM(latent_dim, return_state=True, \n",
    "                                  dropout=0.5, name='encoder_lstm'))\n",
    "_, forward_h, forward_c, backward_h, backward_c = encoder_bilstm(encoder_inputs)\n",
    "\n",
    "state_h = Concatenate()([forward_h, backward_h])\n",
    "state_c = Concatenate()([forward_c, backward_c])"
   ]
  },
  {
   "cell_type": "markdown",
   "metadata": {
    "colab_type": "text",
    "id": "vGGVvuYU1K44"
   },
   "source": [
    "## 1. Data preparation\n",
    "\n",
    "1. Download data (e.g., \"deu-eng.zip\") from http://www.manythings.org/anki/\n",
    "2. Unzip the .ZIP file.\n",
    "3. Put the .TXT file (e.g., \"deu.txt\") in the directory \"./Data/\"."
   ]
  },
  {
   "cell_type": "markdown",
   "metadata": {
    "colab_type": "text",
    "id": "Ml35K3qD1K45"
   },
   "source": [
    "### 1.1. Load and clean text\n"
   ]
  },
  {
   "cell_type": "code",
   "execution_count": 0,
   "metadata": {
    "colab": {},
    "colab_type": "code",
    "id": "Oi7ahvhq1K45"
   },
   "outputs": [],
   "source": [
    "import re\n",
    "import string\n",
    "from unicodedata import normalize\n",
    "import numpy\n",
    "\n",
    "# load doc into memory\n",
    "def load_doc(filename):\n",
    "    # open the file as read only\n",
    "    file = open(filename, mode='rt', encoding='utf-8')\n",
    "    # read all text\n",
    "    text = file.read()\n",
    "    # close the file\n",
    "    file.close()\n",
    "    return text\n",
    "\n",
    "\n",
    "# split a loaded document into sentences\n",
    "def to_pairs(doc):\n",
    "    lines = doc.strip().split('\\n')\n",
    "    pairs = [line.split('\\t') for line in  lines]\n",
    "    return pairs\n",
    "\n",
    "def clean_data(lines):\n",
    "    cleaned = list()\n",
    "    # prepare regex for char filtering\n",
    "    re_print = re.compile('[^%s]' % re.escape(string.printable))\n",
    "    # prepare translation table for removing punctuation\n",
    "    table = str.maketrans('', '', string.punctuation)\n",
    "    for pair in lines:\n",
    "        clean_pair = list()\n",
    "        for line in pair:\n",
    "            # normalize unicode characters\n",
    "            line = normalize('NFD', line).encode('ascii', 'ignore')\n",
    "            line = line.decode('UTF-8')\n",
    "            # tokenize on white space\n",
    "            line = line.split()\n",
    "            # convert to lowercase\n",
    "            line = [word.lower() for word in line]\n",
    "            # remove punctuation from each token\n",
    "            line = [word.translate(table) for word in line]\n",
    "            # remove non-printable chars form each token\n",
    "            line = [re_print.sub('', w) for w in line]\n",
    "            # remove tokens with numbers in them\n",
    "            line = [word for word in line if word.isalpha()]\n",
    "            # store as string\n",
    "            clean_pair.append(' '.join(line))\n",
    "        cleaned.append(clean_pair)\n",
    "    return numpy.array(cleaned)"
   ]
  },
  {
   "cell_type": "markdown",
   "metadata": {
    "colab_type": "text",
    "id": "KUsmE4HT1K47"
   },
   "source": [
    "#### Fill the following blanks:"
   ]
  },
  {
   "cell_type": "code",
   "execution_count": 2,
   "metadata": {
    "colab": {
     "base_uri": "https://localhost:8080/",
     "height": 122
    },
    "colab_type": "code",
    "id": "2q2XZ9-f_-NG",
    "outputId": "ade9d3bb-9368-40df-da89-701483a7eb6b"
   },
   "outputs": [
    {
     "name": "stdout",
     "output_type": "stream",
     "text": [
      "Go to this URL in a browser: https://accounts.google.com/o/oauth2/auth?client_id=947318989803-6bn6qk8qdgf4n4g3pfee6491hc0brc4i.apps.googleusercontent.com&redirect_uri=urn%3Aietf%3Awg%3Aoauth%3A2.0%3Aoob&scope=email%20https%3A%2F%2Fwww.googleapis.com%2Fauth%2Fdocs.test%20https%3A%2F%2Fwww.googleapis.com%2Fauth%2Fdrive%20https%3A%2F%2Fwww.googleapis.com%2Fauth%2Fdrive.photos.readonly%20https%3A%2F%2Fwww.googleapis.com%2Fauth%2Fpeopleapi.readonly&response_type=code\n",
      "\n",
      "Enter your authorization code:\n",
      "··········\n",
      "Mounted at /content/drive\n"
     ]
    }
   ],
   "source": [
    "from google.colab import drive\n",
    "drive.mount(\"/content/drive\")"
   ]
  },
  {
   "cell_type": "code",
   "execution_count": 0,
   "metadata": {
    "colab": {},
    "colab_type": "code",
    "id": "a7st73Wx1K48"
   },
   "outputs": [],
   "source": [
    "# e.g., filename = 'Data/deu.txt'\n",
    "filename = '/content/drive/My Drive/spa.txt'\n",
    "\n",
    "# e.g., n_train = 20000\n",
    "n_train = 20000"
   ]
  },
  {
   "cell_type": "code",
   "execution_count": 0,
   "metadata": {
    "colab": {},
    "colab_type": "code",
    "id": "jtarD3aQ1K49"
   },
   "outputs": [],
   "source": [
    "# load dataset\n",
    "doc = load_doc(filename)\n",
    "\n",
    "# split into Language1-Language2 pairs\n",
    "pairs = to_pairs(doc)\n",
    "\n",
    "# clean sentences\n",
    "clean_pairs = clean_data(pairs)[0:n_train, :]"
   ]
  },
  {
   "cell_type": "code",
   "execution_count": 10,
   "metadata": {
    "colab": {
     "base_uri": "https://localhost:8080/",
     "height": 136
    },
    "colab_type": "code",
    "id": "jelauuoU1K4_",
    "outputId": "42d00975-fd90-4c04-ef0e-b6d74f271074"
   },
   "outputs": [
    {
     "name": "stdout",
     "output_type": "stream",
     "text": [
      "[get out] => [salte]\n",
      "[get out] => [sal]\n",
      "[get out] => [sali]\n",
      "[get out] => [salid]\n",
      "[get out] => [salgan]\n",
      "[go away] => [vete de aqui]\n",
      "[go away] => [largate]\n"
     ]
    }
   ],
   "source": [
    "for i in range(95,102):\n",
    "    print('[' + clean_pairs[i, 0] + '] => [' + clean_pairs[i, 1] + ']')"
   ]
  },
  {
   "cell_type": "code",
   "execution_count": 11,
   "metadata": {
    "colab": {
     "base_uri": "https://localhost:8080/",
     "height": 51
    },
    "colab_type": "code",
    "id": "gp6gFDjj1K5B",
    "outputId": "3a6d35d8-e435-45b6-8734-69612d35d313"
   },
   "outputs": [
    {
     "name": "stdout",
     "output_type": "stream",
     "text": [
      "Length of input_texts:  (20000,)\n",
      "Length of target_texts: (20000,)\n"
     ]
    }
   ],
   "source": [
    "input_texts = clean_pairs[:, 0]\n",
    "target_texts = ['\\t' + text + '\\n' for text in clean_pairs[:, 1]]\n",
    "\n",
    "print('Length of input_texts:  ' + str(input_texts.shape))\n",
    "print('Length of target_texts: ' + str(input_texts.shape))"
   ]
  },
  {
   "cell_type": "code",
   "execution_count": 12,
   "metadata": {
    "colab": {
     "base_uri": "https://localhost:8080/",
     "height": 51
    },
    "colab_type": "code",
    "id": "2N4NhKq91K5D",
    "outputId": "b1a5e2e7-d028-4ebc-bcae-d44a9e0069eb"
   },
   "outputs": [
    {
     "name": "stdout",
     "output_type": "stream",
     "text": [
      "max length of input  sentences: 19\n",
      "max length of target sentences: 68\n"
     ]
    }
   ],
   "source": [
    "max_encoder_seq_length = max(len(line) for line in input_texts)\n",
    "max_decoder_seq_length = max(len(line) for line in target_texts)\n",
    "\n",
    "print('max length of input  sentences: %d' % (max_encoder_seq_length))\n",
    "print('max length of target sentences: %d' % (max_decoder_seq_length))"
   ]
  },
  {
   "cell_type": "markdown",
   "metadata": {
    "colab_type": "text",
    "id": "lC0wknhP1K5G"
   },
   "source": [
    "**Remark:** To this end, you have two lists of sentences: input_texts and target_texts"
   ]
  },
  {
   "cell_type": "markdown",
   "metadata": {
    "colab_type": "text",
    "id": "HcRdzkcK1K5G"
   },
   "source": [
    "## 2. Text processing\n",
    "\n",
    "### 2.1. Convert texts to sequences\n",
    "\n",
    "- Input: A list of $n$ sentences (with max length $t$).\n",
    "- It is represented by a $n\\times t$ matrix after the tokenization and zero-padding."
   ]
  },
  {
   "cell_type": "code",
   "execution_count": 64,
   "metadata": {
    "colab": {
     "base_uri": "https://localhost:8080/",
     "height": 85
    },
    "colab_type": "code",
    "id": "TwaDxUZE1K5H",
    "outputId": "86b9dc48-1993-4520-8274-db37f1378edb"
   },
   "outputs": [
    {
     "name": "stdout",
     "output_type": "stream",
     "text": [
      "shape of encoder_input_seq: (20000, 19)\n",
      "shape of input_token_index: 27\n",
      "shape of decoder_input_seq: (20000, 68)\n",
      "shape of target_token_index: 29\n"
     ]
    }
   ],
   "source": [
    "from keras.preprocessing.text import Tokenizer\n",
    "from keras.preprocessing.sequence import pad_sequences\n",
    "\n",
    "# encode and pad sequences\n",
    "def text2sequences(max_len, lines):\n",
    "    tokenizer = Tokenizer(char_level=True, filters='')\n",
    "    tokenizer.fit_on_texts(lines)\n",
    "    seqs = tokenizer.texts_to_sequences(lines)\n",
    "    seqs_pad = pad_sequences(seqs, maxlen=max_len, padding='post')\n",
    "    return seqs_pad, tokenizer.word_index, tokenizer\n",
    "\n",
    "\n",
    "encoder_input_seq, input_token_index,tokenizer_in = text2sequences(max_encoder_seq_length, \n",
    "                                                      input_texts)\n",
    "decoder_input_seq, target_token_index, tokenizer_out = text2sequences(max_decoder_seq_length, \n",
    "                                                       target_texts)\n",
    "\n",
    "print('shape of encoder_input_seq: ' + str(encoder_input_seq.shape))\n",
    "print('shape of input_token_index: ' + str(len(input_token_index)))\n",
    "print('shape of decoder_input_seq: ' + str(decoder_input_seq.shape))\n",
    "print('shape of target_token_index: ' + str(len(target_token_index)))"
   ]
  },
  {
   "cell_type": "code",
   "execution_count": 14,
   "metadata": {
    "colab": {
     "base_uri": "https://localhost:8080/",
     "height": 51
    },
    "colab_type": "code",
    "id": "aKbsfyWi1K5J",
    "outputId": "d95d0fc4-309a-4fa2-ca63-3a9e9fb7d56d"
   },
   "outputs": [
    {
     "name": "stdout",
     "output_type": "stream",
     "text": [
      "num_encoder_tokens: 28\n",
      "num_decoder_tokens: 30\n"
     ]
    }
   ],
   "source": [
    "num_encoder_tokens = len(input_token_index) + 1\n",
    "num_decoder_tokens = len(target_token_index) + 1\n",
    "\n",
    "print('num_encoder_tokens: ' + str(num_encoder_tokens))\n",
    "print('num_decoder_tokens: ' + str(num_decoder_tokens))"
   ]
  },
  {
   "cell_type": "markdown",
   "metadata": {
    "colab_type": "text",
    "id": "DnuVQKvp1K5K"
   },
   "source": [
    "**Remark:** To this end, the input language and target language texts are converted to 2 matrices. \n",
    "\n",
    "- Their number of rows are both n_train.\n",
    "- Their number of columns are respective max_encoder_seq_length and max_decoder_seq_length."
   ]
  },
  {
   "cell_type": "markdown",
   "metadata": {
    "colab_type": "text",
    "id": "h28ts9_u1K5L"
   },
   "source": [
    "The followings print a sentence and its representation as a sequence."
   ]
  },
  {
   "cell_type": "code",
   "execution_count": 0,
   "metadata": {
    "colab": {
     "base_uri": "https://localhost:8080/",
     "height": 34
    },
    "colab_type": "code",
    "id": "vxNl4ctx1K5L",
    "outputId": "05a4c2fe-219b-4070-a4f5-fbccb3e8e4a9"
   },
   "outputs": [
    {
     "data": {
      "text/plain": [
       "'\\tvete de aqui\\n'"
      ]
     },
     "execution_count": 147,
     "metadata": {
      "tags": []
     },
     "output_type": "execute_result"
    }
   ],
   "source": [
    "target_texts[100]"
   ]
  },
  {
   "cell_type": "code",
   "execution_count": 0,
   "metadata": {
    "colab": {
     "base_uri": "https://localhost:8080/",
     "height": 510
    },
    "colab_type": "code",
    "id": "1Ut_W2ikPsHY",
    "outputId": "ed76e8a3-4071-45ed-965f-e8d02e37987b"
   },
   "outputs": [
    {
     "data": {
      "text/plain": [
       "{'\\t': 6,\n",
       " '\\n': 7,\n",
       " ' ': 1,\n",
       " 'a': 3,\n",
       " 'b': 18,\n",
       " 'c': 16,\n",
       " 'd': 15,\n",
       " 'e': 2,\n",
       " 'f': 24,\n",
       " 'g': 20,\n",
       " 'h': 21,\n",
       " 'i': 11,\n",
       " 'j': 25,\n",
       " 'k': 28,\n",
       " 'l': 12,\n",
       " 'm': 13,\n",
       " 'n': 8,\n",
       " 'o': 4,\n",
       " 'p': 17,\n",
       " 'q': 23,\n",
       " 'r': 10,\n",
       " 's': 5,\n",
       " 't': 9,\n",
       " 'u': 14,\n",
       " 'v': 19,\n",
       " 'w': 29,\n",
       " 'x': 27,\n",
       " 'y': 22,\n",
       " 'z': 26}"
      ]
     },
     "execution_count": 150,
     "metadata": {
      "tags": []
     },
     "output_type": "execute_result"
    }
   ],
   "source": [
    "target_token_index"
   ]
  },
  {
   "cell_type": "markdown",
   "metadata": {
    "colab_type": "text",
    "id": "GgsxTWKy1K5O"
   },
   "source": [
    "## 2.2. One-hot encode\n",
    "\n",
    "- Input: A list of $n$ sentences (with max length $t$).\n",
    "- It is represented by a $n\\times t$ matrix after the tokenization and zero-padding.\n",
    "- It is represented by a $n\\times t \\times v$ tensor ($t$ is the number of unique chars) after the one-hot encoding."
   ]
  },
  {
   "cell_type": "code",
   "execution_count": 18,
   "metadata": {
    "colab": {
     "base_uri": "https://localhost:8080/",
     "height": 51
    },
    "colab_type": "code",
    "id": "onN-Ea_b1K5P",
    "outputId": "40862033-9895-44ea-c637-3b8344aef8b0"
   },
   "outputs": [
    {
     "name": "stdout",
     "output_type": "stream",
     "text": [
      "(20000, 19, 28)\n",
      "(20000, 68, 30)\n"
     ]
    }
   ],
   "source": [
    "from keras.utils import to_categorical\n",
    "\n",
    "# one hot encode target sequence\n",
    "def onehot_encode(sequences, max_len, vocab_size):\n",
    "    n = len(sequences)\n",
    "    data = numpy.zeros((n, max_len, vocab_size))\n",
    "    for i in range(n):\n",
    "        data[i, :, :] = to_categorical(sequences[i], num_classes=vocab_size)\n",
    "    return data\n",
    "\n",
    "encoder_input_data = onehot_encode(encoder_input_seq, max_encoder_seq_length, num_encoder_tokens)\n",
    "decoder_input_data = onehot_encode(decoder_input_seq, max_decoder_seq_length, num_decoder_tokens)\n",
    "\n",
    "decoder_target_seq = numpy.zeros(decoder_input_seq.shape)\n",
    "decoder_target_seq[:, 0:-1] = decoder_input_seq[:, 1:]\n",
    "decoder_target_data = onehot_encode(decoder_target_seq, \n",
    "                                    max_decoder_seq_length, \n",
    "                                    num_decoder_tokens)\n",
    "\n",
    "print(encoder_input_data.shape)\n",
    "print(decoder_input_data.shape)"
   ]
  },
  {
   "cell_type": "code",
   "execution_count": 19,
   "metadata": {
    "colab": {
     "base_uri": "https://localhost:8080/",
     "height": 34
    },
    "colab_type": "code",
    "id": "rpPeLIp0QjHF",
    "outputId": "4a26af3a-dd3e-4c8e-cadb-9bb4216bff94"
   },
   "outputs": [
    {
     "data": {
      "text/plain": [
       "(19, 28)"
      ]
     },
     "execution_count": 19,
     "metadata": {
      "tags": []
     },
     "output_type": "execute_result"
    }
   ],
   "source": [
    "encoder_input_data[100,:].shape"
   ]
  },
  {
   "cell_type": "code",
   "execution_count": 20,
   "metadata": {
    "colab": {
     "base_uri": "https://localhost:8080/",
     "height": 34
    },
    "colab_type": "code",
    "id": "oYAWtW9iQy1F",
    "outputId": "ed9f5f0a-cc44-4b15-a5e4-f4b1ede4ccbe"
   },
   "outputs": [
    {
     "data": {
      "text/plain": [
       "(68, 30)"
      ]
     },
     "execution_count": 20,
     "metadata": {
      "tags": []
     },
     "output_type": "execute_result"
    }
   ],
   "source": [
    "decoder_input_data[100,:].shape"
   ]
  },
  {
   "cell_type": "markdown",
   "metadata": {
    "colab_type": "text",
    "id": "C1qMtTzS1K5R"
   },
   "source": [
    "## 3. Build the networks (for training)\n",
    "\n",
    "- Build encoder, decoder, and connect the two modules to get \"model\". \n",
    "\n",
    "- Fit the model on the bilingual data to train the parameters in the encoder and decoder."
   ]
  },
  {
   "cell_type": "markdown",
   "metadata": {
    "colab_type": "text",
    "id": "dJzSO-mX1K5R"
   },
   "source": [
    "### 3.1. Encoder network\n",
    "\n",
    "- Input:  one-hot encode of the input language\n",
    "\n",
    "- Return: \n",
    "\n",
    "    -- output (all the hidden states   $h_1, \\cdots , h_t$) are always discarded\n",
    "    \n",
    "    -- the final hidden state  $h_t$\n",
    "    \n",
    "    -- the final conveyor belt $c_t$"
   ]
  },
  {
   "cell_type": "code",
   "execution_count": 21,
   "metadata": {
    "colab": {
     "base_uri": "https://localhost:8080/",
     "height": 119
    },
    "colab_type": "code",
    "id": "gliyVMGD1K5S",
    "outputId": "3894f838-8905-4036-d46f-a5ecbcd88374"
   },
   "outputs": [
    {
     "name": "stdout",
     "output_type": "stream",
     "text": [
      "WARNING:tensorflow:From /usr/local/lib/python3.6/dist-packages/tensorflow/python/framework/op_def_library.py:263: colocate_with (from tensorflow.python.framework.ops) is deprecated and will be removed in a future version.\n",
      "Instructions for updating:\n",
      "Colocations handled automatically by placer.\n",
      "WARNING:tensorflow:From /usr/local/lib/python3.6/dist-packages/keras/backend/tensorflow_backend.py:3445: calling dropout (from tensorflow.python.ops.nn_ops) with keep_prob is deprecated and will be removed in a future version.\n",
      "Instructions for updating:\n",
      "Please use `rate` instead of `keep_prob`. Rate should be set to `rate = 1 - keep_prob`.\n"
     ]
    }
   ],
   "source": [
    "from keras.layers import Input, LSTM\n",
    "from keras.models import Model\n",
    "from keras.layers import Bidirectional, Concatenate\n",
    "\n",
    "latent_dim = 256\n",
    "\n",
    "# inputs of the encoder network\n",
    "encoder_inputs = Input(shape=(None, num_encoder_tokens), \n",
    "                       name='encoder_inputs')\n",
    "\n",
    "\n",
    "from keras.layers import Bidirectional, Concatenate\n",
    "\n",
    "encoder_bilstm = Bidirectional(LSTM(latent_dim, return_state=True, \n",
    "                                  dropout=0.5, name='encoder_lstm'))\n",
    "_, forward_h, forward_c, backward_h, backward_c = encoder_bilstm(encoder_inputs)\n",
    "\n",
    "state_h = Concatenate()([forward_h, backward_h])\n",
    "state_c = Concatenate()([forward_c, backward_c])\n",
    "\n",
    "# build the encoder network model\n",
    "encoder_model = Model(inputs=encoder_inputs, \n",
    "                      outputs=[state_h, state_c],\n",
    "                      name='encoder')"
   ]
  },
  {
   "cell_type": "markdown",
   "metadata": {
    "colab_type": "text",
    "id": "HH2V4_1l1K5T"
   },
   "source": [
    "Print a summary and save the encoder network structure to \"./encoder.pdf\""
   ]
  },
  {
   "cell_type": "code",
   "execution_count": 22,
   "metadata": {
    "colab": {
     "base_uri": "https://localhost:8080/",
     "height": 306
    },
    "colab_type": "code",
    "id": "flN2-wo01K5U",
    "outputId": "4472e9af-c5f9-4ed1-d629-90ac469b3c3d"
   },
   "outputs": [
    {
     "name": "stdout",
     "output_type": "stream",
     "text": [
      "__________________________________________________________________________________________________\n",
      "Layer (type)                    Output Shape         Param #     Connected to                     \n",
      "==================================================================================================\n",
      "encoder_inputs (InputLayer)     (None, None, 28)     0                                            \n",
      "__________________________________________________________________________________________________\n",
      "bidirectional_1 (Bidirectional) [(None, 512), (None, 583680      encoder_inputs[0][0]             \n",
      "__________________________________________________________________________________________________\n",
      "concatenate_1 (Concatenate)     (None, 512)          0           bidirectional_1[0][1]            \n",
      "                                                                 bidirectional_1[0][3]            \n",
      "__________________________________________________________________________________________________\n",
      "concatenate_2 (Concatenate)     (None, 512)          0           bidirectional_1[0][2]            \n",
      "                                                                 bidirectional_1[0][4]            \n",
      "==================================================================================================\n",
      "Total params: 583,680\n",
      "Trainable params: 583,680\n",
      "Non-trainable params: 0\n",
      "__________________________________________________________________________________________________\n"
     ]
    }
   ],
   "source": [
    "from IPython.display import SVG\n",
    "from keras.utils.vis_utils import model_to_dot, plot_model\n",
    "\n",
    "SVG(model_to_dot(encoder_model, show_shapes=False).create(prog='dot', format='svg'))\n",
    "\n",
    "plot_model(\n",
    "    model=encoder_model, show_shapes=False,\n",
    "    to_file='encoder.pdf'\n",
    ")\n",
    "\n",
    "encoder_model.summary()"
   ]
  },
  {
   "cell_type": "markdown",
   "metadata": {
    "colab_type": "text",
    "id": "Eqb3g4Rw1K5X"
   },
   "source": [
    "### 3.2. Decoder network\n",
    "\n",
    "- Inputs:  \n",
    "\n",
    "    -- one-hot encode of the target language\n",
    "    \n",
    "    -- The initial hidden state $h_t$ \n",
    "    \n",
    "    -- The initial conveyor belt $c_t$ \n",
    "\n",
    "- Return: \n",
    "\n",
    "    -- output (all the hidden states) $h_1, \\cdots , h_t$\n",
    "\n",
    "    -- the final hidden state  $h_t$ (discarded in the training and used in the prediction)\n",
    "    \n",
    "    -- the final conveyor belt $c_t$ (discarded in the training and used in the prediction)"
   ]
  },
  {
   "cell_type": "code",
   "execution_count": 0,
   "metadata": {
    "colab": {},
    "colab_type": "code",
    "id": "nHW1KIvh1K5X"
   },
   "outputs": [],
   "source": [
    "from keras.layers import Input, LSTM, Dense\n",
    "from keras.models import Model\n",
    "\n",
    "# inputs of the decoder network\n",
    "decoder_input_h = Input(shape=(latent_dim *2 ,), name='decoder_input_h')\n",
    "decoder_input_c = Input(shape=(latent_dim *2,), name='decoder_input_c')\n",
    "decoder_input_x = Input(shape=(None, num_decoder_tokens), name='decoder_input_x')\n",
    "\n",
    "# set the LSTM layer\n",
    "#decoder_lstm = LSTM(latent_dim , return_sequences=True, \n",
    "#                    return_state=True, dropout=0.5, name='decoder_lstm')\n",
    "#decoder_lstm_outputs, state_h, state_c = decoder_lstm(decoder_input_x, \n",
    "#                                                      initial_state=[decoder_input_h, decoder_input_c])\n",
    "\n",
    "\n",
    "\n",
    "\n",
    "decoder_lstm =LSTM(latent_dim*2, return_sequences=True, return_state=True, \n",
    "                                  dropout=0.5, name='decoder_lstm')\n",
    "decoder_lstm_outputs, state_h, state_c = decoder_lstm(decoder_input_x,\n",
    "                                                      initial_state=[decoder_input_h, decoder_input_c])\n",
    "\n",
    "\n",
    "# set the dense layer\n",
    "decoder_dense = Dense(num_decoder_tokens, activation='softmax', name='decoder_dense')\n",
    "decoder_outputs = decoder_dense(decoder_lstm_outputs)\n",
    "\n",
    "# build the decoder network model\n",
    "decoder_model = Model(inputs=[decoder_input_x, decoder_input_h, decoder_input_c],\n",
    "                      outputs=[decoder_outputs, state_h, state_c],\n",
    "                      name='decoder')"
   ]
  },
  {
   "cell_type": "code",
   "execution_count": 0,
   "metadata": {
    "colab": {},
    "colab_type": "code",
    "id": "Wgz8mL26YwCg"
   },
   "outputs": [],
   "source": []
  },
  {
   "cell_type": "markdown",
   "metadata": {
    "colab_type": "text",
    "id": "HvQT_NA-1K5a"
   },
   "source": [
    "Print a summary and save the encoder network structure to \"./decoder.pdf\""
   ]
  },
  {
   "cell_type": "code",
   "execution_count": 24,
   "metadata": {
    "colab": {
     "base_uri": "https://localhost:8080/",
     "height": 340
    },
    "colab_type": "code",
    "id": "eHzt1oJq1K5b",
    "outputId": "7065c8c7-53bd-4bfd-a2fa-1968a12a61a0"
   },
   "outputs": [
    {
     "name": "stdout",
     "output_type": "stream",
     "text": [
      "__________________________________________________________________________________________________\n",
      "Layer (type)                    Output Shape         Param #     Connected to                     \n",
      "==================================================================================================\n",
      "decoder_input_x (InputLayer)    (None, None, 30)     0                                            \n",
      "__________________________________________________________________________________________________\n",
      "decoder_input_h (InputLayer)    (None, 512)          0                                            \n",
      "__________________________________________________________________________________________________\n",
      "decoder_input_c (InputLayer)    (None, 512)          0                                            \n",
      "__________________________________________________________________________________________________\n",
      "decoder_lstm (LSTM)             [(None, None, 512),  1112064     decoder_input_x[0][0]            \n",
      "                                                                 decoder_input_h[0][0]            \n",
      "                                                                 decoder_input_c[0][0]            \n",
      "__________________________________________________________________________________________________\n",
      "decoder_dense (Dense)           (None, None, 30)     15390       decoder_lstm[0][0]               \n",
      "==================================================================================================\n",
      "Total params: 1,127,454\n",
      "Trainable params: 1,127,454\n",
      "Non-trainable params: 0\n",
      "__________________________________________________________________________________________________\n"
     ]
    }
   ],
   "source": [
    "from IPython.display import SVG\n",
    "from keras.utils.vis_utils import model_to_dot, plot_model\n",
    "\n",
    "SVG(model_to_dot(decoder_model, show_shapes=False).create(prog='dot', format='svg'))\n",
    "\n",
    "plot_model(\n",
    "    model=decoder_model, show_shapes=False,\n",
    "    to_file='decoder.pdf'\n",
    ")\n",
    "\n",
    "decoder_model.summary()"
   ]
  },
  {
   "cell_type": "markdown",
   "metadata": {
    "colab_type": "text",
    "id": "ZSX-9DkX1K5d"
   },
   "source": [
    "### 3.3. Connect the encoder and decoder"
   ]
  },
  {
   "cell_type": "code",
   "execution_count": 0,
   "metadata": {
    "colab": {},
    "colab_type": "code",
    "id": "MGlH7ilD1K5e"
   },
   "outputs": [],
   "source": [
    "# input layers\n",
    "encoder_input_x = Input(shape=(None, num_encoder_tokens), name='encoder_input_x')\n",
    "decoder_input_x = Input(shape=(None, num_decoder_tokens), name='decoder_input_x')\n",
    "\n",
    "# connect encoder to decoder\n",
    "encoder_final_states = encoder_model([encoder_input_x])\n",
    "decoder_lstm_output, _, _ = decoder_lstm(decoder_input_x, initial_state=encoder_final_states)\n",
    "decoder_pred = decoder_dense(decoder_lstm_output)\n",
    "\n",
    "model = Model(inputs=[encoder_input_x, decoder_input_x], \n",
    "              outputs=decoder_pred, \n",
    "              name='model_training')"
   ]
  },
  {
   "cell_type": "code",
   "execution_count": 26,
   "metadata": {
    "colab": {
     "base_uri": "https://localhost:8080/",
     "height": 51
    },
    "colab_type": "code",
    "id": "VUqbs7ye1K5g",
    "outputId": "22007655-fd3e-44f4-e051-cb35dc389acc"
   },
   "outputs": [
    {
     "name": "stdout",
     "output_type": "stream",
     "text": [
      "Tensor(\"decoder_lstm/while/Exit_2:0\", shape=(?, 512), dtype=float32)\n",
      "Tensor(\"decoder_input_h:0\", shape=(?, 512), dtype=float32)\n"
     ]
    }
   ],
   "source": [
    "print(state_h)\n",
    "print(decoder_input_h)"
   ]
  },
  {
   "cell_type": "code",
   "execution_count": 27,
   "metadata": {
    "colab": {
     "base_uri": "https://localhost:8080/",
     "height": 340
    },
    "colab_type": "code",
    "id": "BTVG498T1K5h",
    "outputId": "2aa763a0-ca3a-4a0d-d229-a09df95d3f6f"
   },
   "outputs": [
    {
     "name": "stdout",
     "output_type": "stream",
     "text": [
      "__________________________________________________________________________________________________\n",
      "Layer (type)                    Output Shape         Param #     Connected to                     \n",
      "==================================================================================================\n",
      "encoder_input_x (InputLayer)    (None, None, 28)     0                                            \n",
      "__________________________________________________________________________________________________\n",
      "decoder_input_x (InputLayer)    (None, None, 30)     0                                            \n",
      "__________________________________________________________________________________________________\n",
      "encoder (Model)                 [(None, 512), (None, 583680      encoder_input_x[0][0]            \n",
      "__________________________________________________________________________________________________\n",
      "decoder_lstm (LSTM)             [(None, None, 512),  1112064     decoder_input_x[0][0]            \n",
      "                                                                 encoder[1][0]                    \n",
      "                                                                 encoder[1][1]                    \n",
      "__________________________________________________________________________________________________\n",
      "decoder_dense (Dense)           (None, None, 30)     15390       decoder_lstm[1][0]               \n",
      "==================================================================================================\n",
      "Total params: 1,711,134\n",
      "Trainable params: 1,711,134\n",
      "Non-trainable params: 0\n",
      "__________________________________________________________________________________________________\n"
     ]
    }
   ],
   "source": [
    "from IPython.display import SVG\n",
    "from keras.utils.vis_utils import model_to_dot, plot_model\n",
    "\n",
    "SVG(model_to_dot(model, show_shapes=False).create(prog='dot', format='svg'))\n",
    "\n",
    "plot_model(\n",
    "    model=model, show_shapes=False,\n",
    "    to_file='model_training.pdf'\n",
    ")\n",
    "\n",
    "model.summary()"
   ]
  },
  {
   "cell_type": "markdown",
   "metadata": {
    "colab_type": "text",
    "id": "2p_VOrQV1K5i"
   },
   "source": [
    "### 3.5. Fit the model on the bilingual dataset\n",
    "\n",
    "- encoder_input_data: one-hot encode of the input language\n",
    "\n",
    "- decoder_input_data: one-hot encode of the input language\n",
    "\n",
    "- decoder_target_data: labels (left shift of decoder_input_data)\n",
    "\n",
    "- tune the hyper-parameters\n",
    "\n",
    "- stop when the validation loss stop decreasing."
   ]
  },
  {
   "cell_type": "code",
   "execution_count": 28,
   "metadata": {
    "colab": {
     "base_uri": "https://localhost:8080/",
     "height": 68
    },
    "colab_type": "code",
    "id": "ha_zyaiP1K5j",
    "outputId": "305a38c0-1ee4-429b-a645-631142dd17d2"
   },
   "outputs": [
    {
     "name": "stdout",
     "output_type": "stream",
     "text": [
      "shape of encoder_input_data(20000, 19, 28)\n",
      "shape of decoder_input_data(20000, 68, 30)\n",
      "shape of decoder_target_data(20000, 68, 30)\n"
     ]
    }
   ],
   "source": [
    "print('shape of encoder_input_data' + str(encoder_input_data.shape))\n",
    "print('shape of decoder_input_data' + str(decoder_input_data.shape))\n",
    "print('shape of decoder_target_data' + str(decoder_target_data.shape))"
   ]
  },
  {
   "cell_type": "code",
   "execution_count": 29,
   "metadata": {
    "colab": {
     "base_uri": "https://localhost:8080/",
     "height": 530
    },
    "colab_type": "code",
    "id": "jtjaPSrd1K5m",
    "outputId": "c2b93a34-9b46-4a2b-90ae-646ab4cff62a"
   },
   "outputs": [
    {
     "name": "stdout",
     "output_type": "stream",
     "text": [
      "WARNING:tensorflow:From /usr/local/lib/python3.6/dist-packages/tensorflow/python/ops/math_ops.py:3066: to_int32 (from tensorflow.python.ops.math_ops) is deprecated and will be removed in a future version.\n",
      "Instructions for updating:\n",
      "Use tf.cast instead.\n",
      "WARNING:tensorflow:From /usr/local/lib/python3.6/dist-packages/tensorflow/python/ops/math_grad.py:102: div (from tensorflow.python.ops.math_ops) is deprecated and will be removed in a future version.\n",
      "Instructions for updating:\n",
      "Deprecated in favor of operator or tf.math.divide.\n",
      "Train on 16000 samples, validate on 4000 samples\n",
      "Epoch 1/10\n",
      "16000/16000 [==============================] - 37s 2ms/step - loss: 0.7990 - val_loss: 0.8254\n",
      "Epoch 2/10\n",
      "16000/16000 [==============================] - 32s 2ms/step - loss: 0.5830 - val_loss: 0.6204\n",
      "Epoch 3/10\n",
      "16000/16000 [==============================] - 33s 2ms/step - loss: 0.5254 - val_loss: 0.5747\n",
      "Epoch 4/10\n",
      "16000/16000 [==============================] - 32s 2ms/step - loss: 0.4859 - val_loss: 0.5431\n",
      "Epoch 5/10\n",
      "16000/16000 [==============================] - 33s 2ms/step - loss: 0.4543 - val_loss: 0.5190\n",
      "Epoch 6/10\n",
      "16000/16000 [==============================] - 32s 2ms/step - loss: 0.4291 - val_loss: 0.4889\n",
      "Epoch 7/10\n",
      "16000/16000 [==============================] - 32s 2ms/step - loss: 0.4081 - val_loss: 0.4721\n",
      "Epoch 8/10\n",
      "16000/16000 [==============================] - 33s 2ms/step - loss: 0.3904 - val_loss: 0.4552\n",
      "Epoch 9/10\n",
      "16000/16000 [==============================] - 33s 2ms/step - loss: 0.3733 - val_loss: 0.4375\n",
      "Epoch 10/10\n",
      "16000/16000 [==============================] - 34s 2ms/step - loss: 0.3585 - val_loss: 0.4252\n"
     ]
    },
    {
     "name": "stderr",
     "output_type": "stream",
     "text": [
      "/usr/local/lib/python3.6/dist-packages/keras/engine/network.py:877: UserWarning: Layer decoder_lstm was passed non-serializable keyword arguments: {'initial_state': [<tf.Tensor 'encoder/concatenate_1/concat:0' shape=(?, 512) dtype=float32>, <tf.Tensor 'encoder/concatenate_2/concat:0' shape=(?, 512) dtype=float32>]}. They will not be included in the serialized model (and thus will be missing at deserialization time).\n",
      "  '. They will not be included '\n"
     ]
    }
   ],
   "source": [
    "model.compile(optimizer='rmsprop', loss='categorical_crossentropy')\n",
    "\n",
    "model.fit([encoder_input_data, decoder_input_data],  # training data\n",
    "          decoder_target_data,                       # labels (left shift of the target sequences)\n",
    "          batch_size=64, epochs=10, validation_split=0.2)\n",
    "\n",
    "model.save('seq2seq.h5')"
   ]
  },
  {
   "cell_type": "code",
   "execution_count": 30,
   "metadata": {
    "colab": {
     "base_uri": "https://localhost:8080/",
     "height": 1071
    },
    "colab_type": "code",
    "id": "OkAo5275cztw",
    "outputId": "ac717fcc-f056-4a97-ca79-e806eec0ddcd"
   },
   "outputs": [
    {
     "name": "stdout",
     "output_type": "stream",
     "text": [
      "Train on 16000 samples, validate on 4000 samples\n",
      "Epoch 1/30\n",
      "16000/16000 [==============================] - 66s 4ms/step - loss: 0.3487 - val_loss: 0.4149\n",
      "Epoch 2/30\n",
      "16000/16000 [==============================] - 66s 4ms/step - loss: 0.3332 - val_loss: 0.4018\n",
      "Epoch 3/30\n",
      "16000/16000 [==============================] - 66s 4ms/step - loss: 0.3185 - val_loss: 0.3888\n",
      "Epoch 4/30\n",
      "16000/16000 [==============================] - 66s 4ms/step - loss: 0.3047 - val_loss: 0.3783\n",
      "Epoch 5/30\n",
      "16000/16000 [==============================] - 68s 4ms/step - loss: 0.2932 - val_loss: 0.3742\n",
      "Epoch 6/30\n",
      "16000/16000 [==============================] - 66s 4ms/step - loss: 0.2817 - val_loss: 0.3647\n",
      "Epoch 7/30\n",
      "16000/16000 [==============================] - 65s 4ms/step - loss: 0.2707 - val_loss: 0.3608\n",
      "Epoch 8/30\n",
      "16000/16000 [==============================] - 68s 4ms/step - loss: 0.2621 - val_loss: 0.3563\n",
      "Epoch 9/30\n",
      "16000/16000 [==============================] - 68s 4ms/step - loss: 0.2536 - val_loss: 0.3567\n",
      "Epoch 10/30\n",
      "16000/16000 [==============================] - 102s 6ms/step - loss: 0.2461 - val_loss: 0.3522\n",
      "Epoch 11/30\n",
      "16000/16000 [==============================] - 69s 4ms/step - loss: 0.2386 - val_loss: 0.3500\n",
      "Epoch 12/30\n",
      "16000/16000 [==============================] - 94s 6ms/step - loss: 0.2310 - val_loss: 0.3448\n",
      "Epoch 13/30\n",
      "16000/16000 [==============================] - 68s 4ms/step - loss: 0.2243 - val_loss: 0.3457\n",
      "Epoch 14/30\n",
      "16000/16000 [==============================] - 65s 4ms/step - loss: 0.2178 - val_loss: 0.3476\n",
      "Epoch 15/30\n",
      "16000/16000 [==============================] - 66s 4ms/step - loss: 0.2130 - val_loss: 0.3440\n",
      "Epoch 16/30\n",
      "16000/16000 [==============================] - 66s 4ms/step - loss: 0.2069 - val_loss: 0.3440\n",
      "Epoch 17/30\n",
      "16000/16000 [==============================] - 65s 4ms/step - loss: 0.2016 - val_loss: 0.3446\n",
      "Epoch 18/30\n",
      "16000/16000 [==============================] - 68s 4ms/step - loss: 0.1973 - val_loss: 0.3429\n",
      "Epoch 19/30\n",
      "16000/16000 [==============================] - 66s 4ms/step - loss: 0.1922 - val_loss: 0.3432\n",
      "Epoch 20/30\n",
      "16000/16000 [==============================] - 66s 4ms/step - loss: 0.1866 - val_loss: 0.3471\n",
      "Epoch 21/30\n",
      "16000/16000 [==============================] - 66s 4ms/step - loss: 0.1826 - val_loss: 0.3461\n",
      "Epoch 22/30\n",
      "16000/16000 [==============================] - 67s 4ms/step - loss: 0.1785 - val_loss: 0.3471\n",
      "Epoch 23/30\n",
      "16000/16000 [==============================] - 65s 4ms/step - loss: 0.1743 - val_loss: 0.3475\n",
      "Epoch 24/30\n",
      "16000/16000 [==============================] - 66s 4ms/step - loss: 0.1710 - val_loss: 0.3483\n",
      "Epoch 25/30\n",
      "16000/16000 [==============================] - 66s 4ms/step - loss: 0.1679 - val_loss: 0.3511\n",
      "Epoch 26/30\n",
      "16000/16000 [==============================] - 66s 4ms/step - loss: 0.1632 - val_loss: 0.3563\n",
      "Epoch 27/30\n",
      "16000/16000 [==============================] - 68s 4ms/step - loss: 0.1605 - val_loss: 0.3557\n",
      "Epoch 28/30\n",
      "16000/16000 [==============================] - 66s 4ms/step - loss: 0.1571 - val_loss: 0.3538\n",
      "Epoch 29/30\n",
      "16000/16000 [==============================] - 66s 4ms/step - loss: 0.1536 - val_loss: 0.3581\n",
      "Epoch 30/30\n",
      "16000/16000 [==============================] - 66s 4ms/step - loss: 0.1512 - val_loss: 0.3594\n"
     ]
    },
    {
     "data": {
      "text/plain": [
       "<keras.callbacks.History at 0x7fc503ecce10>"
      ]
     },
     "execution_count": 30,
     "metadata": {
      "tags": []
     },
     "output_type": "execute_result"
    }
   ],
   "source": [
    "model.fit([encoder_input_data, decoder_input_data],  # training data\n",
    "          decoder_target_data,                       # labels (left shift of the target sequences)\n",
    "          batch_size=32, epochs=30, validation_split=0.2)"
   ]
  },
  {
   "cell_type": "markdown",
   "metadata": {
    "colab_type": "text",
    "id": "zGTB3HKb1K5o"
   },
   "source": [
    "## 4. Make predictions\n",
    "\n",
    "\n",
    "### 4.1. Translate English to Spanish\n",
    "\n",
    "1. Encoder read a sentence (source language) and output its final states, $h_t$ and $c_t$.\n",
    "2. Take the [star] sign \"\\t\" and the final state $h_t$ and $c_t$ as input and run the decoder.\n",
    "3. Get the new states and predicted probability distribution.\n",
    "4. sample a char from the predicted probability distribution\n",
    "5. take the sampled char and the new states as input and repeat the process (stop if reach the [stop] sign \"\\n\")."
   ]
  },
  {
   "cell_type": "code",
   "execution_count": 0,
   "metadata": {
    "colab": {},
    "colab_type": "code",
    "id": "rGQyFahw1K5o"
   },
   "outputs": [],
   "source": [
    "# Reverse-lookup token index to decode sequences back to something readable.\n",
    "reverse_input_char_index = dict((i, char) for char, i in input_token_index.items())\n",
    "reverse_target_char_index = dict((i, char) for char, i in target_token_index.items())"
   ]
  },
  {
   "cell_type": "code",
   "execution_count": 0,
   "metadata": {
    "colab": {},
    "colab_type": "code",
    "id": "KraIw4lX1K5q"
   },
   "outputs": [],
   "source": [
    "def decode_sequence(input_seq):\n",
    "    states_value = encoder_model.predict(input_seq)\n",
    "\n",
    "    target_seq = numpy.zeros((1, 1, num_decoder_tokens))\n",
    "    target_seq[0, 0, target_token_index['\\t']] = 1.\n",
    "\n",
    "    stop_condition = False\n",
    "    decoded_sentence = ''\n",
    "    while not stop_condition:\n",
    "        output_tokens, h, c = decoder_model.predict([target_seq] + states_value)\n",
    "\n",
    "        # this line of code is greedy selection\n",
    "        # try to use multinomial sampling instead (with temperature)\n",
    "        sampled_token_index = numpy.argmax(output_tokens[0, -1, :])\n",
    "        \n",
    "        sampled_char = reverse_target_char_index[sampled_token_index]\n",
    "        decoded_sentence += sampled_char\n",
    "\n",
    "        if (sampled_char == '\\n' or\n",
    "           len(decoded_sentence) > max_decoder_seq_length):\n",
    "            stop_condition = True\n",
    "\n",
    "        target_seq = numpy.zeros((1, 1, num_decoder_tokens))\n",
    "        target_seq[0, 0, sampled_token_index] = 1.\n",
    "\n",
    "        states_value = [h, c]\n",
    "\n",
    "    return decoded_sentence\n"
   ]
  },
  {
   "cell_type": "code",
   "execution_count": 33,
   "metadata": {
    "colab": {
     "base_uri": "https://localhost:8080/",
     "height": 1377
    },
    "colab_type": "code",
    "id": "-ZhRCaIn1K5s",
    "outputId": "ec7ab134-6086-43f6-9ade-a1341d4a1d83"
   },
   "outputs": [
    {
     "name": "stdout",
     "output_type": "stream",
     "text": [
      "-\n",
      "English:        no one came\n",
      "Spanish (true):  ninguno acudio\n",
      "Spanish (pred):  no vino nadie\n",
      "-\n",
      "English:        no one died\n",
      "Spanish (true):  nadie murio\n",
      "Spanish (pred):  nadie murio\n",
      "-\n",
      "English:        no one died\n",
      "Spanish (true):  no murio nadie\n",
      "Spanish (pred):  nadie murio\n",
      "-\n",
      "English:        nobody came\n",
      "Spanish (true):  nadie vino\n",
      "Spanish (pred):  no vino nadie\n",
      "-\n",
      "English:        nobody came\n",
      "Spanish (true):  no vino nadie\n",
      "Spanish (pred):  no vino nadie\n",
      "-\n",
      "English:        nobody came\n",
      "Spanish (true):  no ha venido nadie\n",
      "Spanish (pred):  no vino nadie\n",
      "-\n",
      "English:        nobody died\n",
      "Spanish (true):  nadie murio\n",
      "Spanish (pred):  nadie murio\n",
      "-\n",
      "English:        nobody died\n",
      "Spanish (true):  no murio nadie\n",
      "Spanish (pred):  nadie murio\n",
      "-\n",
      "English:        nobody knew\n",
      "Spanish (true):  nadie lo sabia\n",
      "Spanish (pred):  nadie sabe\n",
      "-\n",
      "English:        nobody lied\n",
      "Spanish (true):  nadie mintio\n",
      "Spanish (pred):  nadie murio\n",
      "-\n",
      "English:        now im sad\n",
      "Spanish (true):  ahora estoy triste\n",
      "Spanish (pred):  ahora lo entrendo\n",
      "-\n",
      "English:        now help me\n",
      "Spanish (true):  ahora ayudame\n",
      "Spanish (pred):  ahora ayudame\n",
      "-\n",
      "English:        now hold on\n",
      "Spanish (true):  ahora resiste\n",
      "Spanish (pred):  ahora quedate\n",
      "-\n",
      "English:        now move on\n",
      "Spanish (true):  ahora sigue\n",
      "Spanish (pred):  ahora probabamo\n",
      "-\n",
      "English:        now move on\n",
      "Spanish (true):  ahora continua\n",
      "Spanish (pred):  ahora probabamo\n",
      "-\n",
      "English:        now move on\n",
      "Spanish (true):  ahora prosigue\n",
      "Spanish (pred):  ahora probabamo\n",
      "-\n",
      "English:        now shut up\n",
      "Spanish (true):  ahora callate\n",
      "Spanish (pred):  ahora cantate\n",
      "-\n",
      "English:        ok i agree\n",
      "Spanish (true):  bueno estoy de acuerdo\n",
      "Spanish (pred):  buelo estoy de acuerdo\n",
      "-\n",
      "English:        one is blue\n",
      "Spanish (true):  uno es azul\n",
      "Spanish (pred):  uno es azul\n",
      "-\n",
      "English:        please sing\n",
      "Spanish (true):  canta por favor\n",
      "Spanish (pred):  por favor contente\n"
     ]
    }
   ],
   "source": [
    "for seq_index in range(2100, 2120):\n",
    "    # Take one sequence (part of the training set)\n",
    "    # for trying out decoding.\n",
    "    input_seq = encoder_input_data[seq_index: seq_index + 1]\n",
    "    decoded_sentence = decode_sequence(input_seq)\n",
    "    print('-')\n",
    "    print('English:       ', input_texts[seq_index])\n",
    "    print('Spanish (true): ', target_texts[seq_index][1:-1])\n",
    "    print('Spanish (pred): ', decoded_sentence[0:-1])\n"
   ]
  },
  {
   "cell_type": "markdown",
   "metadata": {
    "colab_type": "text",
    "id": "J1OM2RUb1K5t"
   },
   "source": [
    "### 4.2. Translate an English sentence to the target language\n",
    "\n",
    "1. Tokenization\n",
    "2. One-hot encode\n",
    "3. Translate"
   ]
  },
  {
   "cell_type": "code",
   "execution_count": 0,
   "metadata": {
    "colab": {},
    "colab_type": "code",
    "id": "jF_oPoQ3M2F8"
   },
   "outputs": [],
   "source": [
    "import numpy as np"
   ]
  },
  {
   "cell_type": "code",
   "execution_count": 121,
   "metadata": {
    "colab": {
     "base_uri": "https://localhost:8080/",
     "height": 68
    },
    "colab_type": "code",
    "id": "4xPlcDjIR-RU",
    "outputId": "ea782a90-f651-4313-c2c9-ab4daec19cdb"
   },
   "outputs": [
    {
     "name": "stdout",
     "output_type": "stream",
     "text": [
      "source sentence is: why is that\n",
      "translated sentence is: por que es eso\n",
      "\n"
     ]
    }
   ],
   "source": [
    "\n",
    "input_sentence = 'why is that'\n",
    "\n",
    "seq=np.array(tokenizer_in.texts_to_sequences(input_sentence))\n",
    "input_sequence=pad_sequences(seq.reshape(1,seq.shape[0]), maxlen=max_encoder_seq_length, padding='post')\n",
    "input_x = onehot_encode(input_sequence, max_encoder_seq_length, num_encoder_tokens)\n",
    "translated_sentence = decode_sequence(input_x)\n",
    "\n",
    "print('source sentence is: ' + input_sentence)\n",
    "print('translated sentence is: ' + translated_sentence)"
   ]
  },
  {
   "cell_type": "markdown",
   "metadata": {
    "colab_type": "text",
    "id": "DLStEk1s1K5u"
   },
   "source": [
    "## 5. Evaluate the translation using BLEU score\n",
    "\n",
    "Reference: \n",
    "- https://machinelearningmastery.com/calculate-bleu-score-for-text-python/\n",
    "- https://en.wikipedia.org/wiki/BLEU\n"
   ]
  },
  {
   "cell_type": "code",
   "execution_count": 0,
   "metadata": {
    "colab": {},
    "colab_type": "code",
    "id": "eNHZkRNc1K5v"
   },
   "outputs": [],
   "source": [
    "\n",
    "from nltk.translate.bleu_score import sentence_bleu"
   ]
  },
  {
   "cell_type": "markdown",
   "metadata": {
    "colab_type": "text",
    "id": "2y0aEvcFZDVX"
   },
   "source": [
    "Evaluating BLEU score on sentences"
   ]
  },
  {
   "cell_type": "code",
   "execution_count": 130,
   "metadata": {
    "colab": {
     "base_uri": "https://localhost:8080/",
     "height": 1785
    },
    "colab_type": "code",
    "id": "NY5mRDETXtK8",
    "outputId": "768f9fde-b907-4832-f675-2fb77fadc1f1"
   },
   "outputs": [
    {
     "name": "stdout",
     "output_type": "stream",
     "text": [
      "-\n",
      "English:        no one came\n",
      "Spanish (true):  ninguno acudio\n",
      "Spanish (pred):  no vino nadie\n",
      "BLEU score :  0.8242367502646054\n",
      "-\n",
      "English:        no one died\n",
      "Spanish (true):  nadie murio\n",
      "Spanish (pred):  nadie murio\n",
      "BLEU score :  0.9764540896763105\n",
      "-\n",
      "English:        no one died\n",
      "Spanish (true):  no murio nadie\n",
      "Spanish (pred):  nadie murio\n",
      "BLEU score :  0.9764540896763105\n",
      "-\n",
      "English:        nobody came\n",
      "Spanish (true):  nadie vino\n",
      "Spanish (pred):  no vino nadie\n",
      "BLEU score :  0.8857000285382948\n",
      "-\n",
      "English:        nobody came\n",
      "Spanish (true):  no vino nadie\n",
      "Spanish (pred):  no vino nadie\n",
      "BLEU score :  0.8857000285382948\n",
      "-\n",
      "English:        nobody came\n",
      "Spanish (true):  no ha venido nadie\n",
      "Spanish (pred):  no vino nadie\n",
      "BLEU score :  0.8857000285382948\n"
     ]
    },
    {
     "name": "stderr",
     "output_type": "stream",
     "text": [
      "/usr/local/lib/python3.6/dist-packages/nltk/translate/bleu_score.py:490: UserWarning: \n",
      "Corpus/Sentence contains 0 counts of 2-gram overlaps.\n",
      "BLEU scores might be undesirable; use SmoothingFunction().\n",
      "  warnings.warn(_msg)\n"
     ]
    },
    {
     "name": "stdout",
     "output_type": "stream",
     "text": [
      "-\n",
      "English:        nobody died\n",
      "Spanish (true):  nadie murio\n",
      "Spanish (pred):  nadie murio\n",
      "BLEU score :  0.9764540896763105\n",
      "-\n",
      "English:        nobody died\n",
      "Spanish (true):  no murio nadie\n",
      "Spanish (pred):  nadie murio\n",
      "BLEU score :  0.9764540896763105\n",
      "-\n",
      "English:        nobody knew\n",
      "Spanish (true):  nadie lo sabia\n",
      "Spanish (pred):  nadie sabe\n",
      "BLEU score :  0.9457416090031758\n",
      "-\n",
      "English:        nobody lied\n",
      "Spanish (true):  nadie mintio\n",
      "Spanish (pred):  nadie murio\n",
      "BLEU score :  0.9234732618882052\n",
      "-\n",
      "English:        now im sad\n",
      "Spanish (true):  ahora estoy triste\n",
      "Spanish (pred):  ahora lo entrendo\n",
      "BLEU score :  0.8010548969451144\n",
      "-\n",
      "English:        now help me\n",
      "Spanish (true):  ahora ayudame\n",
      "Spanish (pred):  ahora ayudame\n",
      "BLEU score :  0.9365137582048805\n",
      "-\n",
      "English:        now hold on\n",
      "Spanish (true):  ahora resiste\n",
      "Spanish (pred):  ahora quedate\n",
      "BLEU score :  0.8566209113168688\n",
      "-\n",
      "English:        now move on\n",
      "Spanish (true):  ahora sigue\n",
      "Spanish (pred):  ahora probabamo\n",
      "BLEU score :  0.7598356856515925\n",
      "-\n",
      "English:        now move on\n",
      "Spanish (true):  ahora continua\n",
      "Spanish (pred):  ahora probabamo\n",
      "BLEU score :  0.7598356856515925\n",
      "-\n",
      "English:        now move on\n",
      "Spanish (true):  ahora prosigue\n",
      "Spanish (pred):  ahora probabamo\n",
      "BLEU score :  0.7952707287670506\n",
      "-\n",
      "English:        now shut up\n",
      "Spanish (true):  ahora callate\n",
      "Spanish (pred):  ahora cantate\n",
      "BLEU score :  0.8857000285382948\n",
      "-\n",
      "English:        ok i agree\n",
      "Spanish (true):  bueno estoy de acuerdo\n",
      "Spanish (pred):  buelo estoy de acuerdo\n",
      "BLEU score :  0.8593887047640296\n",
      "-\n",
      "English:        one is blue\n",
      "Spanish (true):  uno es azul\n",
      "Spanish (pred):  uno es azul\n",
      "BLEU score :  0.9510699415570292\n",
      "-\n",
      "English:        please sing\n",
      "Spanish (true):  canta por favor\n",
      "Spanish (pred):  por favor contente\n",
      "BLEU score :  0.8633400213704505\n"
     ]
    }
   ],
   "source": [
    "scores=[]\n",
    "for seq_index in range(2100, 2120):\n",
    "    # Take one sequence (part of the training set)\n",
    "    # for trying out decoding.\n",
    "    input_seq = encoder_input_data[seq_index: seq_index + 1]\n",
    "    decoded_sentence = decode_sequence(input_seq)\n",
    "    print('-')\n",
    "    print('English:       ', input_texts[seq_index])\n",
    "    print('Spanish (true): ', target_texts[seq_index][1:-1])\n",
    "    print('Spanish (pred): ', decoded_sentence[0:-1])\n",
    "    score = sentence_bleu(target_texts[seq_index][1:-1],decoded_sentence[0:-1] )\n",
    "    scores.append(score)\n",
    "    print(\"BLEU score : \", score)"
   ]
  },
  {
   "cell_type": "code",
   "execution_count": 140,
   "metadata": {
    "colab": {
     "base_uri": "https://localhost:8080/",
     "height": 34
    },
    "colab_type": "code",
    "id": "8lByr2qIZXBt",
    "outputId": "6c38d88b-5409-473d-dea2-6a99142c92a9"
   },
   "outputs": [
    {
     "name": "stdout",
     "output_type": "stream",
     "text": [
      "Mean BLEU score for 100 train smaple is 0.886249921412151\n"
     ]
    }
   ],
   "source": [
    "print(\"Mean BLEU score for 100 train smaple is {}\".format(np.array(scores).mean()))"
   ]
  },
  {
   "cell_type": "code",
   "execution_count": 0,
   "metadata": {
    "colab": {},
    "colab_type": "code",
    "id": "acX6FZ-EZzj9"
   },
   "outputs": [],
   "source": []
  }
 ],
 "metadata": {
  "accelerator": "GPU",
  "colab": {
   "collapsed_sections": [],
   "name": "seq2seq.ipynb",
   "provenance": [],
   "version": "0.3.2"
  },
  "kernelspec": {
   "display_name": "Python 3",
   "language": "python",
   "name": "python3"
  },
  "language_info": {
   "codemirror_mode": {
    "name": "ipython",
    "version": 3
   },
   "file_extension": ".py",
   "mimetype": "text/x-python",
   "name": "python",
   "nbconvert_exporter": "python",
   "pygments_lexer": "ipython3",
   "version": "3.6.8"
  }
 },
 "nbformat": 4,
 "nbformat_minor": 1
}
