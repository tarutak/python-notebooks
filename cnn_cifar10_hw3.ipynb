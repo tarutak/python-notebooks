{
  "nbformat": 4,
  "nbformat_minor": 0,
  "metadata": {
    "colab": {
      "name": "cnn.ipynb",
      "version": "0.3.2",
      "provenance": []
    },
    "kernelspec": {
      "name": "python3",
      "display_name": "Python 3"
    },
    "accelerator": "GPU"
  },
  "cells": [
    {
      "metadata": {
        "id": "kVKbKxg6l-Vt",
        "colab_type": "text"
      },
      "cell_type": "markdown",
      "source": [
        "# Home 3: Build a CNN for image recognition.\n",
        "\n",
        "### Name: Taru Tak\n"
      ]
    },
    {
      "metadata": {
        "id": "y0diqbu4l-Vz",
        "colab_type": "text"
      },
      "cell_type": "markdown",
      "source": [
        "## 0. You will do the following:\n",
        "\n",
        "1. Read, complete, and run my code.\n",
        "\n",
        "2. **Make substantial improvements** to maximize the accurcy.\n",
        "    \n",
        "3. Convert the .IPYNB file to .HTML file.\n",
        "\n",
        "    * The HTML file must contain the code and the output after execution.\n",
        "    \n",
        "4. Upload this .HTML file to your Github repo.\n",
        "\n",
        "4. Submit the link to this .HTML file to Canvas.\n",
        "\n",
        "    * Example: https://github.com/wangshusen/CS583A-2019Spring/blob/master/homework/HM3/cnn.html\n"
      ]
    },
    {
      "metadata": {
        "id": "0jDUv9cEl-V4",
        "colab_type": "text"
      },
      "cell_type": "markdown",
      "source": [
        "## 1. Data preparation"
      ]
    },
    {
      "metadata": {
        "id": "w1Q9k6KVl-V8",
        "colab_type": "text"
      },
      "cell_type": "markdown",
      "source": [
        "### 1.1. Load data\n"
      ]
    },
    {
      "metadata": {
        "id": "BoYqdEP2l-WS",
        "colab_type": "code",
        "outputId": "61919016-b8b6-4f91-c70c-ca53c398eb3f",
        "colab": {
          "base_uri": "https://localhost:8080/",
          "height": 159
        }
      },
      "cell_type": "code",
      "source": [
        "from keras.datasets import cifar10\n",
        "from keras.preprocessing.image import ImageDataGenerator\n",
        "import numpy\n",
        "\n",
        "(x_train, y_train), (x_test, y_test) = cifar10.load_data()\n",
        "\n",
        "print('shape of x_train: ' + str(x_train.shape))\n",
        "print('shape of y_train: ' + str(y_train.shape))\n",
        "print('shape of x_test: ' + str(x_test.shape))\n",
        "print('shape of y_test: ' + str(y_test.shape))\n",
        "print('number of classes: ' + str(numpy.max(y_train) - numpy.min(y_train) + 1))"
      ],
      "execution_count": 2,
      "outputs": [
        {
          "output_type": "stream",
          "text": [
            "Using TensorFlow backend.\n"
          ],
          "name": "stderr"
        },
        {
          "output_type": "stream",
          "text": [
            "Downloading data from https://www.cs.toronto.edu/~kriz/cifar-10-python.tar.gz\n",
            "170500096/170498071 [==============================] - 22s 0us/step\n",
            "shape of x_train: (50000, 32, 32, 3)\n",
            "shape of y_train: (50000, 1)\n",
            "shape of x_test: (10000, 32, 32, 3)\n",
            "shape of y_test: (10000, 1)\n",
            "number of classes: 10\n"
          ],
          "name": "stdout"
        }
      ]
    },
    {
      "metadata": {
        "id": "BNA-eKs1l-Wn",
        "colab_type": "text"
      },
      "cell_type": "markdown",
      "source": [
        "### 1.2. One-hot encode the labels\n",
        "\n",
        "In the input, a label is a scalar in $\\{0, 1, \\cdots , 9\\}$. One-hot encode transform such a scalar to a $10$-dim vector. E.g., a scalar ```y_train[j]=3``` is transformed to the vector ```y_train_vec[j]=[0, 0, 0, 1, 0, 0, 0, 0, 0, 0]```.\n",
        "\n",
        "1. Define a function ```to_one_hot``` that transforms an $n\\times 1$ array to a $n\\times 10$ matrix.\n",
        "\n",
        "2. Apply the function to ```y_train``` and ```y_test```."
      ]
    },
    {
      "metadata": {
        "id": "xyX6Al0El-Wr",
        "colab_type": "code",
        "outputId": "34382706-e4d7-417c-a917-354a79b6c513",
        "colab": {
          "base_uri": "https://localhost:8080/",
          "height": 88
        }
      },
      "cell_type": "code",
      "source": [
        "def to_one_hot(y, num_class=10):\n",
        "    targets = numpy.array(y).reshape(-1)\n",
        "    return numpy.eye(num_class)[targets]\n",
        "\n",
        "y_train_vec = to_one_hot(y_train)\n",
        "y_test_vec = to_one_hot(y_test)\n",
        "\n",
        "print('Shape of y_train_vec: ' + str(y_train_vec.shape))\n",
        "print('Shape of y_test_vec: ' + str(y_test_vec.shape))\n",
        "\n",
        "print(y_train[0])\n",
        "print(y_train_vec[0])"
      ],
      "execution_count": 3,
      "outputs": [
        {
          "output_type": "stream",
          "text": [
            "Shape of y_train_vec: (50000, 10)\n",
            "Shape of y_test_vec: (10000, 10)\n",
            "[6]\n",
            "[0. 0. 0. 0. 0. 0. 1. 0. 0. 0.]\n"
          ],
          "name": "stdout"
        }
      ]
    },
    {
      "metadata": {
        "id": "nylxiwD6l-W6",
        "colab_type": "text"
      },
      "cell_type": "markdown",
      "source": [
        "#### Remark: the outputs should be\n",
        "* Shape of y_train_vec: (50000, 10)\n",
        "* Shape of y_test_vec: (10000, 10)\n",
        "* [6]\n",
        "* [0. 0. 0. 0. 0. 0. 1. 0. 0. 0.]"
      ]
    },
    {
      "metadata": {
        "id": "X--g8MDXl-W-",
        "colab_type": "text"
      },
      "cell_type": "markdown",
      "source": [
        "### 1.3. Randomly partition the training set to training and validation sets\n",
        "\n",
        "Randomly partition the 50K training samples to 2 sets:\n",
        "* a training set containing 40K samples\n",
        "* a validation set containing 10K samples\n"
      ]
    },
    {
      "metadata": {
        "id": "D8AsVCL0l-XB",
        "colab_type": "code",
        "outputId": "bde7e766-e71b-4897-d4d9-adacf87f193e",
        "colab": {
          "base_uri": "https://localhost:8080/",
          "height": 88
        }
      },
      "cell_type": "code",
      "source": [
        "rand_indices = numpy.random.permutation(50000)\n",
        "train_indices = rand_indices[0:40000]\n",
        "valid_indices = rand_indices[40000:50000]\n",
        "\n",
        "x_val = x_train[valid_indices, :]\n",
        "y_val = y_train_vec[valid_indices, :]\n",
        "\n",
        "x_tr = x_train[train_indices, :]\n",
        "y_tr = y_train_vec[train_indices, :]\n",
        "\n",
        "print('Shape of x_tr: ' + str(x_tr.shape))\n",
        "print('Shape of y_tr: ' + str(y_tr.shape))\n",
        "print('Shape of x_val: ' + str(x_val.shape))\n",
        "print('Shape of y_val: ' + str(y_val.shape))"
      ],
      "execution_count": 4,
      "outputs": [
        {
          "output_type": "stream",
          "text": [
            "Shape of x_tr: (40000, 32, 32, 3)\n",
            "Shape of y_tr: (40000, 10)\n",
            "Shape of x_val: (10000, 32, 32, 3)\n",
            "Shape of y_val: (10000, 10)\n"
          ],
          "name": "stdout"
        }
      ]
    },
    {
      "metadata": {
        "id": "dTwEcHO7l-XQ",
        "colab_type": "text"
      },
      "cell_type": "markdown",
      "source": [
        "## 2. Build a CNN and tune its hyper-parameters\n",
        "\n",
        "1. Build a convolutional neural network model\n",
        "2. Use the validation data to tune the hyper-parameters (e.g., network structure, and optimization algorithm)\n",
        "    * Do NOT use test data for hyper-parameter tuning!!!\n",
        "3. Try to achieve a validation accuracy as high as possible."
      ]
    },
    {
      "metadata": {
        "id": "OLRHydZgl-XV",
        "colab_type": "text"
      },
      "cell_type": "markdown",
      "source": [
        "### Remark: \n",
        "\n",
        "The following CNN is just an example. You are supposed to make **substantial improvements** such as:\n",
        "* Add more layers.\n",
        "* Use regularizations, e.g., dropout.\n",
        "* Use batch normalization."
      ]
    },
    {
      "metadata": {
        "id": "HeVMBrYs_aXA",
        "colab_type": "code",
        "colab": {}
      },
      "cell_type": "code",
      "source": [
        "from keras import layers\n",
        "from keras.layers import Conv2D, MaxPooling2D, Flatten, Dense, Activation,BatchNormalization,Dropout\n",
        "from keras.models import Sequential\n",
        "from keras import regularizers, optimizers"
      ],
      "execution_count": 0,
      "outputs": []
    },
    {
      "metadata": {
        "id": "Lp0-cLVaKMbr",
        "colab_type": "code",
        "outputId": "34deefc7-5cf5-43e0-d079-b8967205cdea",
        "colab": {
          "base_uri": "https://localhost:8080/",
          "height": 1192
        }
      },
      "cell_type": "code",
      "source": [
        "\n",
        "\n",
        "model = Sequential()\n",
        "model.add(Conv2D(32, (3,3), padding='same', input_shape=x_train.shape[1:]))\n",
        "model.add(Activation('relu'))\n",
        "model.add(BatchNormalization())\n",
        "model.add(Conv2D(32, (3,3), padding='same'))\n",
        "model.add(Activation('relu'))\n",
        "model.add(BatchNormalization())\n",
        "model.add(MaxPooling2D(pool_size=(2,2)))\n",
        "model.add(Dropout(0.2))\n",
        "\n",
        "model.add(Conv2D(64, (3,3), padding='same'))\n",
        "model.add(Activation('relu'))\n",
        "model.add(BatchNormalization())\n",
        "model.add(Conv2D(64, (3,3), padding='same'))\n",
        "model.add(Activation('relu'))\n",
        "model.add(BatchNormalization())\n",
        "model.add(MaxPooling2D(pool_size=(2,2)))\n",
        "model.add(Dropout(0.3))\n",
        "\n",
        "model.add(Conv2D(128, (3,3), padding='same'))\n",
        "model.add(Activation('relu'))\n",
        "model.add(BatchNormalization())\n",
        "model.add(Conv2D(128, (3,3), padding='same'))\n",
        "model.add(Activation('relu'))\n",
        "model.add(BatchNormalization())\n",
        "model.add(MaxPooling2D(pool_size=(2,2)))\n",
        "model.add(Dropout(0.4))\n",
        "\n",
        "model.add(Flatten())\n",
        "model.add(Dense(10, activation='softmax'))\n",
        "\n",
        "model.summary()"
      ],
      "execution_count": 7,
      "outputs": [
        {
          "output_type": "stream",
          "text": [
            "WARNING:tensorflow:From /usr/local/lib/python3.6/dist-packages/tensorflow/python/framework/op_def_library.py:263: colocate_with (from tensorflow.python.framework.ops) is deprecated and will be removed in a future version.\n",
            "Instructions for updating:\n",
            "Colocations handled automatically by placer.\n",
            "WARNING:tensorflow:From /usr/local/lib/python3.6/dist-packages/keras/backend/tensorflow_backend.py:3445: calling dropout (from tensorflow.python.ops.nn_ops) with keep_prob is deprecated and will be removed in a future version.\n",
            "Instructions for updating:\n",
            "Please use `rate` instead of `keep_prob`. Rate should be set to `rate = 1 - keep_prob`.\n",
            "_________________________________________________________________\n",
            "Layer (type)                 Output Shape              Param #   \n",
            "=================================================================\n",
            "conv2d_1 (Conv2D)            (None, 32, 32, 32)        896       \n",
            "_________________________________________________________________\n",
            "activation_1 (Activation)    (None, 32, 32, 32)        0         \n",
            "_________________________________________________________________\n",
            "batch_normalization_1 (Batch (None, 32, 32, 32)        128       \n",
            "_________________________________________________________________\n",
            "conv2d_2 (Conv2D)            (None, 32, 32, 32)        9248      \n",
            "_________________________________________________________________\n",
            "activation_2 (Activation)    (None, 32, 32, 32)        0         \n",
            "_________________________________________________________________\n",
            "batch_normalization_2 (Batch (None, 32, 32, 32)        128       \n",
            "_________________________________________________________________\n",
            "max_pooling2d_1 (MaxPooling2 (None, 16, 16, 32)        0         \n",
            "_________________________________________________________________\n",
            "dropout_1 (Dropout)          (None, 16, 16, 32)        0         \n",
            "_________________________________________________________________\n",
            "conv2d_3 (Conv2D)            (None, 16, 16, 64)        18496     \n",
            "_________________________________________________________________\n",
            "activation_3 (Activation)    (None, 16, 16, 64)        0         \n",
            "_________________________________________________________________\n",
            "batch_normalization_3 (Batch (None, 16, 16, 64)        256       \n",
            "_________________________________________________________________\n",
            "conv2d_4 (Conv2D)            (None, 16, 16, 64)        36928     \n",
            "_________________________________________________________________\n",
            "activation_4 (Activation)    (None, 16, 16, 64)        0         \n",
            "_________________________________________________________________\n",
            "batch_normalization_4 (Batch (None, 16, 16, 64)        256       \n",
            "_________________________________________________________________\n",
            "max_pooling2d_2 (MaxPooling2 (None, 8, 8, 64)          0         \n",
            "_________________________________________________________________\n",
            "dropout_2 (Dropout)          (None, 8, 8, 64)          0         \n",
            "_________________________________________________________________\n",
            "conv2d_5 (Conv2D)            (None, 8, 8, 128)         73856     \n",
            "_________________________________________________________________\n",
            "activation_5 (Activation)    (None, 8, 8, 128)         0         \n",
            "_________________________________________________________________\n",
            "batch_normalization_5 (Batch (None, 8, 8, 128)         512       \n",
            "_________________________________________________________________\n",
            "conv2d_6 (Conv2D)            (None, 8, 8, 128)         147584    \n",
            "_________________________________________________________________\n",
            "activation_6 (Activation)    (None, 8, 8, 128)         0         \n",
            "_________________________________________________________________\n",
            "batch_normalization_6 (Batch (None, 8, 8, 128)         512       \n",
            "_________________________________________________________________\n",
            "max_pooling2d_3 (MaxPooling2 (None, 4, 4, 128)         0         \n",
            "_________________________________________________________________\n",
            "dropout_3 (Dropout)          (None, 4, 4, 128)         0         \n",
            "_________________________________________________________________\n",
            "flatten_1 (Flatten)          (None, 2048)              0         \n",
            "_________________________________________________________________\n",
            "dense_1 (Dense)              (None, 10)                20490     \n",
            "=================================================================\n",
            "Total params: 309,290\n",
            "Trainable params: 308,394\n",
            "Non-trainable params: 896\n",
            "_________________________________________________________________\n"
          ],
          "name": "stdout"
        }
      ]
    },
    {
      "metadata": {
        "id": "3zg6ceEgJTAl",
        "colab_type": "code",
        "colab": {}
      },
      "cell_type": "code",
      "source": [
        "datagen = ImageDataGenerator(\n",
        "    rotation_range=15,\n",
        "    width_shift_range=0.1,\n",
        "    height_shift_range=0.1,\n",
        "    zoom_range=0.3,\n",
        "    horizontal_flip=True,\n",
        "    vertical_flip=False\n",
        "    )\n",
        "datagen.fit(x_tr)"
      ],
      "execution_count": 0,
      "outputs": []
    },
    {
      "metadata": {
        "id": "pDgqTVZIC_ns",
        "colab_type": "code",
        "outputId": "178b320d-7e72-4642-afe4-061e15593b11",
        "colab": {
          "base_uri": "https://localhost:8080/",
          "height": 2721
        }
      },
      "cell_type": "code",
      "source": [
        "batch_size = 128\n",
        "epochs=75\n",
        "model.compile(loss='categorical_crossentropy',\n",
        "        optimizer=optimizers.rmsprop(lr=0.001),\n",
        "        metrics=['accuracy'])\n",
        "history=model.fit_generator(datagen.flow(x_tr, y_tr, batch_size=batch_size),steps_per_epoch = len(x_tr) / 128,epochs=epochs,verbose=1,validation_data=(x_val,y_val))"
      ],
      "execution_count": 9,
      "outputs": [
        {
          "output_type": "stream",
          "text": [
            "WARNING:tensorflow:From /usr/local/lib/python3.6/dist-packages/tensorflow/python/ops/math_ops.py:3066: to_int32 (from tensorflow.python.ops.math_ops) is deprecated and will be removed in a future version.\n",
            "Instructions for updating:\n",
            "Use tf.cast instead.\n",
            "Epoch 1/75\n",
            "313/312 [==============================] - 32s 103ms/step - loss: 1.9018 - acc: 0.3802 - val_loss: 1.8788 - val_acc: 0.3891\n",
            "Epoch 2/75\n",
            "313/312 [==============================] - 26s 83ms/step - loss: 1.4848 - acc: 0.5082 - val_loss: 1.4944 - val_acc: 0.5248\n",
            "Epoch 3/75\n",
            "313/312 [==============================] - 27s 85ms/step - loss: 1.3072 - acc: 0.5687 - val_loss: 1.3553 - val_acc: 0.5520\n",
            "Epoch 4/75\n",
            "313/312 [==============================] - 27s 85ms/step - loss: 1.1755 - acc: 0.6152 - val_loss: 1.2658 - val_acc: 0.5655\n",
            "Epoch 5/75\n",
            "313/312 [==============================] - 26s 82ms/step - loss: 1.1062 - acc: 0.6433 - val_loss: 1.0137 - val_acc: 0.6625\n",
            "Epoch 6/75\n",
            "313/312 [==============================] - 27s 85ms/step - loss: 1.0220 - acc: 0.6671 - val_loss: 0.9508 - val_acc: 0.6967\n",
            "Epoch 7/75\n",
            "313/312 [==============================] - 26s 83ms/step - loss: 0.9856 - acc: 0.6824 - val_loss: 0.9642 - val_acc: 0.6905\n",
            "Epoch 8/75\n",
            "313/312 [==============================] - 27s 86ms/step - loss: 0.9740 - acc: 0.6921 - val_loss: 0.8414 - val_acc: 0.7214\n",
            "Epoch 9/75\n",
            "313/312 [==============================] - 26s 83ms/step - loss: 0.9058 - acc: 0.7103 - val_loss: 0.9282 - val_acc: 0.6890\n",
            "Epoch 10/75\n",
            "313/312 [==============================] - 27s 87ms/step - loss: 0.9426 - acc: 0.7116 - val_loss: 1.1584 - val_acc: 0.6450\n",
            "Epoch 11/75\n",
            "313/312 [==============================] - 25s 81ms/step - loss: 0.8742 - acc: 0.7231 - val_loss: 1.2598 - val_acc: 0.6235\n",
            "Epoch 12/75\n",
            "313/312 [==============================] - 27s 87ms/step - loss: 0.8564 - acc: 0.7300 - val_loss: 0.8047 - val_acc: 0.7443\n",
            "Epoch 13/75\n",
            "313/312 [==============================] - 26s 82ms/step - loss: 0.8443 - acc: 0.7351 - val_loss: 0.8762 - val_acc: 0.7198\n",
            "Epoch 14/75\n",
            "313/312 [==============================] - 28s 89ms/step - loss: 0.8155 - acc: 0.7417 - val_loss: 0.9468 - val_acc: 0.7244\n",
            "Epoch 15/75\n",
            "313/312 [==============================] - 26s 83ms/step - loss: 0.7980 - acc: 0.7452 - val_loss: 0.8385 - val_acc: 0.7183\n",
            "Epoch 16/75\n",
            "313/312 [==============================] - 27s 86ms/step - loss: 0.7829 - acc: 0.7481 - val_loss: 0.8595 - val_acc: 0.7323\n",
            "Epoch 17/75\n",
            "313/312 [==============================] - 25s 81ms/step - loss: 0.7699 - acc: 0.7584 - val_loss: 0.8026 - val_acc: 0.7506\n",
            "Epoch 18/75\n",
            "313/312 [==============================] - 27s 86ms/step - loss: 0.7635 - acc: 0.7580 - val_loss: 0.7248 - val_acc: 0.7649\n",
            "Epoch 19/75\n",
            "313/312 [==============================] - 25s 81ms/step - loss: 0.7521 - acc: 0.7651 - val_loss: 0.6745 - val_acc: 0.7865\n",
            "Epoch 20/75\n",
            "313/312 [==============================] - 27s 85ms/step - loss: 0.7546 - acc: 0.7655 - val_loss: 0.6565 - val_acc: 0.7798\n",
            "Epoch 21/75\n",
            "313/312 [==============================] - 25s 80ms/step - loss: 0.7437 - acc: 0.7691 - val_loss: 0.7431 - val_acc: 0.7668\n",
            "Epoch 22/75\n",
            "313/312 [==============================] - 27s 86ms/step - loss: 0.7196 - acc: 0.7749 - val_loss: 0.7972 - val_acc: 0.7657\n",
            "Epoch 23/75\n",
            "313/312 [==============================] - 25s 80ms/step - loss: 0.7171 - acc: 0.7770 - val_loss: 0.6808 - val_acc: 0.7845\n",
            "Epoch 24/75\n",
            "313/312 [==============================] - 25s 81ms/step - loss: 0.6932 - acc: 0.7822 - val_loss: 0.6167 - val_acc: 0.8000\n",
            "Epoch 26/75\n",
            "313/312 [==============================] - 28s 90ms/step - loss: 0.6841 - acc: 0.7845 - val_loss: 0.6075 - val_acc: 0.8034\n",
            "Epoch 27/75\n",
            "313/312 [==============================] - 25s 80ms/step - loss: 0.6827 - acc: 0.7868 - val_loss: 0.6516 - val_acc: 0.7945\n",
            "Epoch 28/75\n",
            "313/312 [==============================] - 27s 86ms/step - loss: 0.6817 - acc: 0.7868 - val_loss: 0.7158 - val_acc: 0.7787\n",
            "Epoch 29/75\n",
            "313/312 [==============================] - 25s 80ms/step - loss: 0.6636 - acc: 0.7935 - val_loss: 0.8493 - val_acc: 0.7289\n",
            "Epoch 30/75\n",
            "313/312 [==============================] - 27s 86ms/step - loss: 0.6992 - acc: 0.7868 - val_loss: 0.5428 - val_acc: 0.8216\n",
            "Epoch 31/75\n",
            "313/312 [==============================] - 25s 81ms/step - loss: 0.7029 - acc: 0.7893 - val_loss: 0.8698 - val_acc: 0.7394\n",
            "Epoch 32/75\n",
            "313/312 [==============================] - 27s 86ms/step - loss: 0.6674 - acc: 0.7920 - val_loss: 0.5406 - val_acc: 0.8241\n",
            "Epoch 33/75\n",
            "313/312 [==============================] - 25s 81ms/step - loss: 0.6495 - acc: 0.7960 - val_loss: 0.7414 - val_acc: 0.7643\n",
            "Epoch 34/75\n",
            "313/312 [==============================] - 27s 86ms/step - loss: 0.6620 - acc: 0.7955 - val_loss: 0.7414 - val_acc: 0.7693\n",
            "Epoch 35/75\n",
            "313/312 [==============================] - 25s 81ms/step - loss: 0.6646 - acc: 0.7964 - val_loss: 0.7420 - val_acc: 0.7673\n",
            "Epoch 36/75\n",
            "313/312 [==============================] - 27s 86ms/step - loss: 0.6570 - acc: 0.7993 - val_loss: 0.6347 - val_acc: 0.7976\n",
            "Epoch 37/75\n",
            "313/312 [==============================] - 25s 81ms/step - loss: 0.6637 - acc: 0.7971 - val_loss: 0.6720 - val_acc: 0.7783\n",
            "Epoch 38/75\n",
            "313/312 [==============================] - 28s 89ms/step - loss: 0.6385 - acc: 0.8045 - val_loss: 0.7343 - val_acc: 0.7836\n",
            "Epoch 39/75\n",
            "313/312 [==============================] - 25s 80ms/step - loss: 0.6300 - acc: 0.8041 - val_loss: 0.5827 - val_acc: 0.8165\n",
            "Epoch 40/75\n",
            "313/312 [==============================] - 27s 86ms/step - loss: 0.6329 - acc: 0.8050 - val_loss: 0.6265 - val_acc: 0.7992\n",
            "Epoch 41/75\n",
            "313/312 [==============================] - 25s 80ms/step - loss: 0.6280 - acc: 0.8071 - val_loss: 0.5693 - val_acc: 0.8242\n",
            "Epoch 42/75\n",
            "313/312 [==============================] - 27s 86ms/step - loss: 0.6574 - acc: 0.8018 - val_loss: 0.5543 - val_acc: 0.8210\n",
            "Epoch 43/75\n",
            "313/312 [==============================] - 25s 80ms/step - loss: 0.7740 - acc: 0.7890 - val_loss: 0.6613 - val_acc: 0.7972\n",
            "Epoch 44/75\n",
            "313/312 [==============================] - 27s 86ms/step - loss: 0.7493 - acc: 0.7910 - val_loss: 0.5413 - val_acc: 0.8234\n",
            "Epoch 45/75\n",
            "313/312 [==============================] - 25s 81ms/step - loss: 0.6460 - acc: 0.8044 - val_loss: 0.6735 - val_acc: 0.7946\n",
            "Epoch 46/75\n",
            "313/312 [==============================] - 27s 85ms/step - loss: 0.6320 - acc: 0.8065 - val_loss: 0.6044 - val_acc: 0.8131\n",
            "Epoch 47/75\n",
            "313/312 [==============================] - 25s 81ms/step - loss: 0.6099 - acc: 0.8087 - val_loss: 0.4735 - val_acc: 0.8501\n",
            "Epoch 48/75\n",
            "313/312 [==============================] - 27s 85ms/step - loss: 0.6033 - acc: 0.8120 - val_loss: 0.5400 - val_acc: 0.8284\n",
            "Epoch 49/75\n",
            "313/312 [==============================] - 26s 82ms/step - loss: 0.6234 - acc: 0.8122 - val_loss: 0.5797 - val_acc: 0.8114\n",
            "Epoch 50/75\n",
            "313/312 [==============================] - 28s 88ms/step - loss: 0.6070 - acc: 0.8165 - val_loss: 0.6285 - val_acc: 0.8102\n",
            "Epoch 51/75\n",
            "313/312 [==============================] - 25s 81ms/step - loss: 0.5895 - acc: 0.8167 - val_loss: 0.6284 - val_acc: 0.8094\n",
            "Epoch 52/75\n",
            "313/312 [==============================] - 27s 86ms/step - loss: 0.5974 - acc: 0.8184 - val_loss: 0.5084 - val_acc: 0.8455\n",
            "Epoch 53/75\n",
            "313/312 [==============================] - 25s 81ms/step - loss: 0.6135 - acc: 0.8145 - val_loss: 0.4635 - val_acc: 0.8459\n",
            "Epoch 54/75\n",
            "313/312 [==============================] - 27s 85ms/step - loss: 0.6019 - acc: 0.8185 - val_loss: 0.4927 - val_acc: 0.8377\n",
            "Epoch 55/75\n",
            "313/312 [==============================] - 25s 80ms/step - loss: 0.6089 - acc: 0.8163 - val_loss: 0.8149 - val_acc: 0.7566\n",
            "Epoch 56/75\n",
            "313/312 [==============================] - 26s 84ms/step - loss: 0.6067 - acc: 0.8160 - val_loss: 0.5647 - val_acc: 0.8134\n",
            "Epoch 57/75\n",
            "313/312 [==============================] - 25s 80ms/step - loss: 0.6208 - acc: 0.8176 - val_loss: 0.4980 - val_acc: 0.8436\n",
            "Epoch 58/75\n",
            "313/312 [==============================] - 26s 84ms/step - loss: 0.5879 - acc: 0.8175 - val_loss: 0.4477 - val_acc: 0.8544\n",
            "Epoch 59/75\n",
            "313/312 [==============================] - 25s 79ms/step - loss: 0.5828 - acc: 0.8215 - val_loss: 0.6367 - val_acc: 0.7932\n",
            "Epoch 60/75\n",
            "313/312 [==============================] - 26s 84ms/step - loss: 0.5906 - acc: 0.8222 - val_loss: 0.5644 - val_acc: 0.8234\n",
            "Epoch 61/75\n",
            "313/312 [==============================] - 25s 81ms/step - loss: 0.5804 - acc: 0.8219 - val_loss: 0.8909 - val_acc: 0.7532\n",
            "Epoch 62/75\n",
            "313/312 [==============================] - 27s 88ms/step - loss: 0.5779 - acc: 0.8233 - val_loss: 0.5130 - val_acc: 0.8368\n",
            "Epoch 63/75\n",
            "313/312 [==============================] - 25s 79ms/step - loss: 0.5931 - acc: 0.8215 - val_loss: 0.5289 - val_acc: 0.8336\n",
            "Epoch 64/75\n",
            "313/312 [==============================] - 26s 84ms/step - loss: 0.6259 - acc: 0.8192 - val_loss: 0.6245 - val_acc: 0.8083\n",
            "Epoch 65/75\n",
            "313/312 [==============================] - 25s 80ms/step - loss: 0.5825 - acc: 0.8195 - val_loss: 0.5568 - val_acc: 0.8189\n",
            "Epoch 66/75\n",
            "313/312 [==============================] - 27s 85ms/step - loss: 0.5796 - acc: 0.8204 - val_loss: 0.7530 - val_acc: 0.7747\n",
            "Epoch 67/75\n",
            "313/312 [==============================] - 25s 80ms/step - loss: 0.5922 - acc: 0.8227 - val_loss: 0.4883 - val_acc: 0.8380\n",
            "Epoch 68/75\n",
            "313/312 [==============================] - 27s 85ms/step - loss: 0.5641 - acc: 0.8276 - val_loss: 0.4769 - val_acc: 0.8499\n",
            "Epoch 69/75\n",
            "313/312 [==============================] - 25s 80ms/step - loss: 0.5624 - acc: 0.8258 - val_loss: 0.4838 - val_acc: 0.8413\n",
            "Epoch 70/75\n",
            "313/312 [==============================] - 26s 84ms/step - loss: 0.5654 - acc: 0.8252 - val_loss: 0.4820 - val_acc: 0.8446\n",
            "Epoch 71/75\n",
            "313/312 [==============================] - 25s 79ms/step - loss: 0.5624 - acc: 0.8266 - val_loss: 0.4595 - val_acc: 0.8552\n",
            "Epoch 72/75\n",
            "313/312 [==============================] - 26s 84ms/step - loss: 0.5690 - acc: 0.8280 - val_loss: 0.5302 - val_acc: 0.8347\n",
            "Epoch 73/75\n",
            "313/312 [==============================] - 26s 82ms/step - loss: 0.5525 - acc: 0.8296 - val_loss: 0.4873 - val_acc: 0.8538\n",
            "Epoch 74/75\n",
            "313/312 [==============================] - 28s 88ms/step - loss: 0.5486 - acc: 0.8314 - val_loss: 0.4363 - val_acc: 0.8566\n",
            "Epoch 75/75\n",
            "313/312 [==============================] - 25s 80ms/step - loss: 0.5617 - acc: 0.8292 - val_loss: 0.6123 - val_acc: 0.8085\n"
          ],
          "name": "stdout"
        }
      ]
    },
    {
      "metadata": {
        "id": "y4jTaUIzw_QR",
        "colab_type": "code",
        "outputId": "b4344d4c-31d2-4d20-ba13-278734b4157a",
        "colab": {
          "base_uri": "https://localhost:8080/",
          "height": 279
        }
      },
      "cell_type": "code",
      "source": [
        "import matplotlib.pyplot as plt\n",
        "%matplotlib inline\n",
        "\n",
        "acc = history.history['acc']\n",
        "val_acc = history.history['val_acc']\n",
        "\n",
        "epochs = range(len(acc))\n",
        "\n",
        "plt.plot(epochs, acc, 'bo', label='Training acc')\n",
        "plt.plot(epochs, val_acc, 'r', label='Validation acc')\n",
        "plt.xlabel('Epochs')\n",
        "plt.ylabel('Accuracy')\n",
        "plt.legend()\n",
        "plt.show()"
      ],
      "execution_count": 10,
      "outputs": [
        {
          "output_type": "display_data",
          "data": {
            "image/png": "[encoded data removed]",
            "text/plain": [
              "<Figure size 432x288 with 1 Axes>"
            ]
          },
          "metadata": {
            "tags": []
          }
        }
      ]
    },
    {
      "metadata": {
        "id": "AW9Sl1TR_mzs",
        "colab_type": "code",
        "colab": {}
      },
      "cell_type": "code",
      "source": [
        "def lr_schedule(epoch):\n",
        "    lr = 1e-3\n",
        "    if epoch > 95:\n",
        "        lr *= 0.5e-3\n",
        "    elif epoch > 80:\n",
        "        lr *= 1e-3\n",
        "    elif epoch > 60:\n",
        "        lr *= 1e-2\n",
        "    elif epoch > 20:\n",
        "        lr *= 1e-1\n",
        "    print('Learning rate: ', lr)\n",
        "    return lr"
      ],
      "execution_count": 0,
      "outputs": []
    },
    {
      "metadata": {
        "id": "HYgPc15Ae0N5",
        "colab_type": "code",
        "colab": {
          "base_uri": "https://localhost:8080/",
          "height": 35
        },
        "outputId": "b3230f6e-583b-44f2-b150-cc75660478e4"
      },
      "cell_type": "code",
      "source": [
        "reg2=None\n",
        "num_filters2=32\n",
        "ac2='relu'\n",
        "adm2=optimizers.Adam(lr=lr_schedule(0),decay=0, beta_1=0.9, beta_2=0.999, epsilon=1e-08)\n",
        "opt2=adm2\n",
        "drop_dense2=0.5\n",
        "drop_conv2=0\n",
        "\n",
        "model2 = Sequential()\n",
        "\n",
        "model2.add(Conv2D(num_filters2, (3, 3), activation=ac2, kernel_regularizer=reg2, input_shape=x_train.shape[1:],padding='same'))\n",
        "model2.add(BatchNormalization(axis=-1))\n",
        "model2.add(Conv2D(num_filters2, (3, 3), activation=ac2,kernel_regularizer=reg2,padding='same'))\n",
        "model2.add(BatchNormalization(axis=-1))\n",
        "model2.add(MaxPooling2D(pool_size=(2, 2)))   \n",
        "model2.add(Dropout(drop_conv2))\n",
        "\n",
        "model2.add(Conv2D(2*num_filters2, (3, 3), activation=ac2,kernel_regularizer=reg2,padding='same'))\n",
        "model2.add(BatchNormalization(axis=-1))\n",
        "model2.add(Conv2D(2*num_filters2, (3, 3), activation=ac2,kernel_regularizer=reg2,padding='same'))\n",
        "model2.add(BatchNormalization(axis=-1))\n",
        "model2.add(MaxPooling2D(pool_size=(2, 2)))   \n",
        "model2.add(Dropout(drop_conv2))\n",
        "\n",
        "model2.add(Conv2D(4*num_filters2, (3, 3), activation=ac2,kernel_regularizer=reg2,padding='same'))\n",
        "model2.add(BatchNormalization(axis=-1))\n",
        "model2.add(Conv2D(4*num_filters2, (3, 3), activation=ac2,kernel_regularizer=reg2,padding='same'))\n",
        "model2.add(BatchNormalization(axis=-1))\n",
        "model2.add(MaxPooling2D(pool_size=(2, 2)))  \n",
        "model2.add(Dropout(drop_conv2))\n",
        "\n",
        "model2.add(Flatten())\n",
        "model2.add(Dense(512, activation=ac2,kernel_regularizer=reg2))\n",
        "model2.add(BatchNormalization())\n",
        "model2.add(Dropout(drop_dense2))\n",
        "model2.add(Dense(10, activation='softmax'))\n",
        "\n",
        "model2.compile(loss='categorical_crossentropy', metrics=['accuracy'],optimizer=opt2)"
      ],
      "execution_count": 28,
      "outputs": [
        {
          "output_type": "stream",
          "text": [
            "Learning rate:  0.001\n"
          ],
          "name": "stdout"
        }
      ]
    },
    {
      "metadata": {
        "id": "nThbuYxWflVp",
        "colab_type": "code",
        "outputId": "99e56770-68fb-469c-ffc6-df82f52d178d",
        "colab": {
          "base_uri": "https://localhost:8080/",
          "height": 959
        }
      },
      "cell_type": "code",
      "source": [
        "model2.summary()\n"
      ],
      "execution_count": 29,
      "outputs": [
        {
          "output_type": "stream",
          "text": [
            "_________________________________________________________________\n",
            "Layer (type)                 Output Shape              Param #   \n",
            "=================================================================\n",
            "conv2d_18 (Conv2D)           (None, 32, 32, 32)        896       \n",
            "_________________________________________________________________\n",
            "batch_normalization_17 (Batc (None, 32, 32, 32)        128       \n",
            "_________________________________________________________________\n",
            "conv2d_19 (Conv2D)           (None, 32, 32, 32)        9248      \n",
            "_________________________________________________________________\n",
            "batch_normalization_18 (Batc (None, 32, 32, 32)        128       \n",
            "_________________________________________________________________\n",
            "max_pooling2d_9 (MaxPooling2 (None, 16, 16, 32)        0         \n",
            "_________________________________________________________________\n",
            "dropout_8 (Dropout)          (None, 16, 16, 32)        0         \n",
            "_________________________________________________________________\n",
            "conv2d_20 (Conv2D)           (None, 16, 16, 64)        18496     \n",
            "_________________________________________________________________\n",
            "batch_normalization_19 (Batc (None, 16, 16, 64)        256       \n",
            "_________________________________________________________________\n",
            "conv2d_21 (Conv2D)           (None, 16, 16, 64)        36928     \n",
            "_________________________________________________________________\n",
            "batch_normalization_20 (Batc (None, 16, 16, 64)        256       \n",
            "_________________________________________________________________\n",
            "max_pooling2d_10 (MaxPooling (None, 8, 8, 64)          0         \n",
            "_________________________________________________________________\n",
            "dropout_9 (Dropout)          (None, 8, 8, 64)          0         \n",
            "_________________________________________________________________\n",
            "conv2d_22 (Conv2D)           (None, 8, 8, 128)         73856     \n",
            "_________________________________________________________________\n",
            "batch_normalization_21 (Batc (None, 8, 8, 128)         512       \n",
            "_________________________________________________________________\n",
            "conv2d_23 (Conv2D)           (None, 8, 8, 128)         147584    \n",
            "_________________________________________________________________\n",
            "batch_normalization_22 (Batc (None, 8, 8, 128)         512       \n",
            "_________________________________________________________________\n",
            "max_pooling2d_11 (MaxPooling (None, 4, 4, 128)         0         \n",
            "_________________________________________________________________\n",
            "dropout_10 (Dropout)         (None, 4, 4, 128)         0         \n",
            "_________________________________________________________________\n",
            "flatten_3 (Flatten)          (None, 2048)              0         \n",
            "_________________________________________________________________\n",
            "dense_4 (Dense)              (None, 512)               1049088   \n",
            "_________________________________________________________________\n",
            "batch_normalization_23 (Batc (None, 512)               2048      \n",
            "_________________________________________________________________\n",
            "dropout_11 (Dropout)         (None, 512)               0         \n",
            "_________________________________________________________________\n",
            "dense_5 (Dense)              (None, 10)                5130      \n",
            "=================================================================\n",
            "Total params: 1,345,066\n",
            "Trainable params: 1,343,146\n",
            "Non-trainable params: 1,920\n",
            "_________________________________________________________________\n"
          ],
          "name": "stdout"
        }
      ]
    },
    {
      "metadata": {
        "id": "U0C8JmoKfuvf",
        "colab_type": "code",
        "outputId": "a66e40f2-7224-4391-8970-faba910a45d0",
        "colab": {
          "base_uri": "https://localhost:8080/",
          "height": 3572
        }
      },
      "cell_type": "code",
      "source": [
        "\n",
        "history2=model2.fit_generator(datagen.flow(x_tr, y_tr, batch_size=128),\n",
        "                    steps_per_epoch = len(x_tr) / 128, epochs=100, validation_data=(x_val, y_val))"
      ],
      "execution_count": 30,
      "outputs": [
        {
          "output_type": "stream",
          "text": [
            "Epoch 1/100\n",
            "313/312 [==============================] - 36s 114ms/step - loss: 1.8330 - acc: 0.4032 - val_loss: 1.4391 - val_acc: 0.5233\n",
            "Epoch 2/100\n",
            "313/312 [==============================] - 28s 88ms/step - loss: 1.3576 - acc: 0.5375 - val_loss: 1.1565 - val_acc: 0.6102\n",
            "Epoch 3/100\n",
            "313/312 [==============================] - 27s 86ms/step - loss: 1.1628 - acc: 0.6048 - val_loss: 0.9983 - val_acc: 0.6666\n",
            "Epoch 4/100\n",
            "313/312 [==============================] - 28s 90ms/step - loss: 1.0344 - acc: 0.6441 - val_loss: 0.8077 - val_acc: 0.7213\n",
            "Epoch 5/100\n",
            "313/312 [==============================] - 27s 86ms/step - loss: 0.9266 - acc: 0.6778 - val_loss: 0.7795 - val_acc: 0.7286\n",
            "Epoch 6/100\n",
            "313/312 [==============================] - 28s 88ms/step - loss: 0.8396 - acc: 0.7079 - val_loss: 0.6900 - val_acc: 0.7633\n",
            "Epoch 7/100\n",
            "313/312 [==============================] - 27s 86ms/step - loss: 0.7844 - acc: 0.7247 - val_loss: 0.6652 - val_acc: 0.7683\n",
            "Epoch 8/100\n",
            "313/312 [==============================] - 27s 85ms/step - loss: 0.7386 - acc: 0.7429 - val_loss: 0.6214 - val_acc: 0.7809\n",
            "Epoch 9/100\n",
            "313/312 [==============================] - 27s 86ms/step - loss: 0.7053 - acc: 0.7538 - val_loss: 0.5903 - val_acc: 0.8005\n",
            "Epoch 10/100\n",
            "313/312 [==============================] - 27s 85ms/step - loss: 0.6787 - acc: 0.7658 - val_loss: 0.5741 - val_acc: 0.8009\n",
            "Epoch 11/100\n",
            "313/312 [==============================] - 27s 87ms/step - loss: 0.6462 - acc: 0.7753 - val_loss: 0.5512 - val_acc: 0.8083\n",
            "Epoch 12/100\n",
            "313/312 [==============================] - 27s 85ms/step - loss: 0.6227 - acc: 0.7841 - val_loss: 0.5309 - val_acc: 0.8144\n",
            "Epoch 13/100\n",
            "313/312 [==============================] - 28s 88ms/step - loss: 0.6037 - acc: 0.7904 - val_loss: 0.5304 - val_acc: 0.8175\n",
            "Epoch 14/100\n",
            "313/312 [==============================] - 27s 87ms/step - loss: 0.5882 - acc: 0.7980 - val_loss: 0.5205 - val_acc: 0.8207\n",
            "Epoch 15/100\n",
            "313/312 [==============================] - 27s 85ms/step - loss: 0.5711 - acc: 0.8016 - val_loss: 0.4936 - val_acc: 0.8324\n",
            "Epoch 16/100\n",
            "313/312 [==============================] - 28s 90ms/step - loss: 0.5498 - acc: 0.8116 - val_loss: 0.4778 - val_acc: 0.8375\n",
            "Epoch 17/100\n",
            "313/312 [==============================] - 27s 86ms/step - loss: 0.5352 - acc: 0.8138 - val_loss: 0.4859 - val_acc: 0.8352\n",
            "Epoch 18/100\n",
            "313/312 [==============================] - 28s 88ms/step - loss: 0.5212 - acc: 0.8193 - val_loss: 0.4775 - val_acc: 0.8375\n",
            "Epoch 19/100\n",
            "313/312 [==============================] - 27s 87ms/step - loss: 0.5086 - acc: 0.8243 - val_loss: 0.4673 - val_acc: 0.8382\n",
            "Epoch 20/100\n",
            "313/312 [==============================] - 27s 85ms/step - loss: 0.4968 - acc: 0.8290 - val_loss: 0.4545 - val_acc: 0.8480\n",
            "Epoch 21/100\n",
            "313/312 [==============================] - 27s 87ms/step - loss: 0.4852 - acc: 0.8331 - val_loss: 0.4478 - val_acc: 0.8497\n",
            "Epoch 22/100\n",
            "313/312 [==============================] - 27s 85ms/step - loss: 0.4754 - acc: 0.8354 - val_loss: 0.4613 - val_acc: 0.8448\n",
            "Epoch 23/100\n",
            "313/312 [==============================] - 28s 89ms/step - loss: 0.4621 - acc: 0.8402 - val_loss: 0.4360 - val_acc: 0.8502\n",
            "Epoch 24/100\n",
            "313/312 [==============================] - 27s 86ms/step - loss: 0.4599 - acc: 0.8407 - val_loss: 0.4261 - val_acc: 0.8577\n",
            "Epoch 25/100\n",
            "313/312 [==============================] - 28s 89ms/step - loss: 0.4479 - acc: 0.8444 - val_loss: 0.4298 - val_acc: 0.8546\n",
            "Epoch 26/100\n",
            "313/312 [==============================] - 27s 86ms/step - loss: 0.4337 - acc: 0.8501 - val_loss: 0.4167 - val_acc: 0.8595\n",
            "Epoch 27/100\n",
            "313/312 [==============================] - 28s 88ms/step - loss: 0.4315 - acc: 0.8489 - val_loss: 0.4154 - val_acc: 0.8611\n",
            "Epoch 28/100\n",
            "313/312 [==============================] - 27s 87ms/step - loss: 0.4253 - acc: 0.8511 - val_loss: 0.4201 - val_acc: 0.8614\n",
            "Epoch 29/100\n",
            "313/312 [==============================] - 27s 85ms/step - loss: 0.4104 - acc: 0.8586 - val_loss: 0.4089 - val_acc: 0.8640\n",
            "Epoch 30/100\n",
            "313/312 [==============================] - 27s 87ms/step - loss: 0.4034 - acc: 0.8595 - val_loss: 0.4081 - val_acc: 0.8660\n",
            "Epoch 31/100\n",
            "313/312 [==============================] - 27s 85ms/step - loss: 0.3977 - acc: 0.8622 - val_loss: 0.4111 - val_acc: 0.8633\n",
            "Epoch 32/100\n",
            "313/312 [==============================] - 27s 87ms/step - loss: 0.4013 - acc: 0.8593 - val_loss: 0.4050 - val_acc: 0.8628\n",
            "Epoch 33/100\n",
            "313/312 [==============================] - 27s 85ms/step - loss: 0.3866 - acc: 0.8651 - val_loss: 0.3863 - val_acc: 0.8707\n",
            "Epoch 34/100\n",
            "313/312 [==============================] - 27s 85ms/step - loss: 0.3780 - acc: 0.8690 - val_loss: 0.4019 - val_acc: 0.8655\n",
            "Epoch 35/100\n",
            "313/312 [==============================] - 27s 86ms/step - loss: 0.3789 - acc: 0.8683 - val_loss: 0.3879 - val_acc: 0.8706\n",
            "Epoch 36/100\n",
            "313/312 [==============================] - 27s 87ms/step - loss: 0.3742 - acc: 0.8714 - val_loss: 0.4032 - val_acc: 0.8670\n",
            "Epoch 37/100\n",
            "313/312 [==============================] - 27s 87ms/step - loss: 0.3690 - acc: 0.8724 - val_loss: 0.3946 - val_acc: 0.8678\n",
            "Epoch 38/100\n",
            "313/312 [==============================] - 27s 85ms/step - loss: 0.3599 - acc: 0.8753 - val_loss: 0.3968 - val_acc: 0.8682\n",
            "Epoch 39/100\n",
            "313/312 [==============================] - 27s 87ms/step - loss: 0.3635 - acc: 0.8735 - val_loss: 0.3988 - val_acc: 0.8667\n",
            "Epoch 40/100\n",
            "313/312 [==============================] - 27s 86ms/step - loss: 0.3535 - acc: 0.8767 - val_loss: 0.3986 - val_acc: 0.8700\n",
            "Epoch 41/100\n",
            "313/312 [==============================] - 27s 85ms/step - loss: 0.3532 - acc: 0.8759 - val_loss: 0.3874 - val_acc: 0.8739\n",
            "Epoch 42/100\n",
            "313/312 [==============================] - 27s 87ms/step - loss: 0.3464 - acc: 0.8793 - val_loss: 0.3946 - val_acc: 0.8701\n",
            "Epoch 43/100\n",
            "313/312 [==============================] - 27s 86ms/step - loss: 0.3404 - acc: 0.8830 - val_loss: 0.3831 - val_acc: 0.8722\n",
            "Epoch 44/100\n",
            "313/312 [==============================] - 28s 88ms/step - loss: 0.3388 - acc: 0.8824 - val_loss: 0.3764 - val_acc: 0.8765\n",
            "Epoch 45/100\n",
            "313/312 [==============================] - 27s 86ms/step - loss: 0.3273 - acc: 0.8851 - val_loss: 0.3741 - val_acc: 0.8762\n",
            "Epoch 46/100\n",
            "313/312 [==============================] - 28s 88ms/step - loss: 0.3257 - acc: 0.8872 - val_loss: 0.3809 - val_acc: 0.8734\n",
            "Epoch 47/100\n",
            "313/312 [==============================] - 27s 87ms/step - loss: 0.3261 - acc: 0.8870 - val_loss: 0.3725 - val_acc: 0.8757\n",
            "Epoch 48/100\n",
            "313/312 [==============================] - 27s 86ms/step - loss: 0.3188 - acc: 0.8885 - val_loss: 0.3758 - val_acc: 0.8764\n",
            "Epoch 49/100\n",
            "313/312 [==============================] - 27s 87ms/step - loss: 0.3178 - acc: 0.8893 - val_loss: 0.3745 - val_acc: 0.8768\n",
            "Epoch 50/100\n",
            "313/312 [==============================] - 28s 88ms/step - loss: 0.3204 - acc: 0.8902 - val_loss: 0.3764 - val_acc: 0.8766\n",
            "Epoch 51/100\n",
            "313/312 [==============================] - 27s 88ms/step - loss: 0.3203 - acc: 0.8884 - val_loss: 0.3770 - val_acc: 0.8709\n",
            "Epoch 52/100\n",
            "313/312 [==============================] - 27s 87ms/step - loss: 0.3087 - acc: 0.8911 - val_loss: 0.3762 - val_acc: 0.8773\n",
            "Epoch 53/100\n",
            "313/312 [==============================] - 27s 85ms/step - loss: 0.3028 - acc: 0.8956 - val_loss: 0.3682 - val_acc: 0.8822\n",
            "Epoch 54/100\n",
            "313/312 [==============================] - 27s 86ms/step - loss: 0.3028 - acc: 0.8952 - val_loss: 0.3736 - val_acc: 0.8788\n",
            "Epoch 55/100\n",
            "313/312 [==============================] - 27s 85ms/step - loss: 0.3006 - acc: 0.8949 - val_loss: 0.3634 - val_acc: 0.8812\n",
            "Epoch 56/100\n",
            "313/312 [==============================] - 27s 88ms/step - loss: 0.3003 - acc: 0.8954 - val_loss: 0.3684 - val_acc: 0.8815\n",
            "Epoch 57/100\n",
            "313/312 [==============================] - 27s 85ms/step - loss: 0.2951 - acc: 0.8962 - val_loss: 0.3723 - val_acc: 0.8837\n",
            "Epoch 58/100\n",
            "313/312 [==============================] - 28s 88ms/step - loss: 0.2901 - acc: 0.8979 - val_loss: 0.3730 - val_acc: 0.8807\n",
            "Epoch 59/100\n",
            "313/312 [==============================] - 27s 87ms/step - loss: 0.2915 - acc: 0.8971 - val_loss: 0.3705 - val_acc: 0.8822\n",
            "Epoch 60/100\n",
            "313/312 [==============================] - 27s 85ms/step - loss: 0.2885 - acc: 0.8989 - val_loss: 0.3654 - val_acc: 0.8813\n",
            "Epoch 61/100\n",
            "313/312 [==============================] - 28s 88ms/step - loss: 0.2866 - acc: 0.8997 - val_loss: 0.3662 - val_acc: 0.8818\n",
            "Epoch 62/100\n",
            "313/312 [==============================] - 27s 86ms/step - loss: 0.2821 - acc: 0.9014 - val_loss: 0.3719 - val_acc: 0.8829\n",
            "Epoch 63/100\n",
            "313/312 [==============================] - 27s 88ms/step - loss: 0.2768 - acc: 0.9024 - val_loss: 0.3607 - val_acc: 0.8857\n",
            "Epoch 64/100\n",
            "313/312 [==============================] - 27s 85ms/step - loss: 0.2755 - acc: 0.9033 - val_loss: 0.3608 - val_acc: 0.8829\n",
            "Epoch 65/100\n",
            "313/312 [==============================] - 27s 85ms/step - loss: 0.2736 - acc: 0.9056 - val_loss: 0.3479 - val_acc: 0.8873\n",
            "Epoch 66/100\n",
            "313/312 [==============================] - 27s 86ms/step - loss: 0.2727 - acc: 0.9036 - val_loss: 0.3682 - val_acc: 0.8832\n",
            "Epoch 67/100\n",
            "313/312 [==============================] - 27s 85ms/step - loss: 0.2793 - acc: 0.9012 - val_loss: 0.3735 - val_acc: 0.8793\n",
            "Epoch 68/100\n",
            "313/312 [==============================] - 27s 86ms/step - loss: 0.2705 - acc: 0.9045 - val_loss: 0.3567 - val_acc: 0.8828\n",
            "Epoch 69/100\n",
            "313/312 [==============================] - 26s 84ms/step - loss: 0.2662 - acc: 0.9068 - val_loss: 0.3525 - val_acc: 0.8858\n",
            "Epoch 70/100\n",
            "313/312 [==============================] - 28s 89ms/step - loss: 0.2620 - acc: 0.9084 - val_loss: 0.3673 - val_acc: 0.8840\n",
            "Epoch 71/100\n",
            "313/312 [==============================] - 27s 85ms/step - loss: 0.2599 - acc: 0.9087 - val_loss: 0.3688 - val_acc: 0.8827\n",
            "Epoch 72/100\n",
            "313/312 [==============================] - 28s 88ms/step - loss: 0.2559 - acc: 0.9101 - val_loss: 0.3661 - val_acc: 0.8855\n",
            "Epoch 73/100\n",
            "313/312 [==============================] - 27s 88ms/step - loss: 0.2602 - acc: 0.9095 - val_loss: 0.3617 - val_acc: 0.8839\n",
            "Epoch 74/100\n",
            "313/312 [==============================] - 27s 85ms/step - loss: 0.2538 - acc: 0.9101 - val_loss: 0.3662 - val_acc: 0.8839\n",
            "Epoch 75/100\n",
            "313/312 [==============================] - 27s 87ms/step - loss: 0.2569 - acc: 0.9113 - val_loss: 0.3611 - val_acc: 0.8840\n",
            "Epoch 76/100\n",
            "313/312 [==============================] - 27s 85ms/step - loss: 0.2504 - acc: 0.9132 - val_loss: 0.3592 - val_acc: 0.8855\n",
            "Epoch 77/100\n",
            "313/312 [==============================] - 27s 86ms/step - loss: 0.2500 - acc: 0.9122 - val_loss: 0.3695 - val_acc: 0.8816\n",
            "Epoch 78/100\n",
            "313/312 [==============================] - 27s 85ms/step - loss: 0.2487 - acc: 0.9128 - val_loss: 0.3676 - val_acc: 0.8840\n",
            "Epoch 79/100\n",
            "313/312 [==============================] - 27s 87ms/step - loss: 0.2492 - acc: 0.9128 - val_loss: 0.3640 - val_acc: 0.8853\n",
            "Epoch 80/100\n",
            "313/312 [==============================] - 27s 85ms/step - loss: 0.2435 - acc: 0.9123 - val_loss: 0.3616 - val_acc: 0.8900\n",
            "Epoch 81/100\n",
            "313/312 [==============================] - 27s 86ms/step - loss: 0.2465 - acc: 0.9151 - val_loss: 0.3628 - val_acc: 0.8850\n",
            "Epoch 82/100\n",
            "313/312 [==============================] - 27s 86ms/step - loss: 0.2391 - acc: 0.9157 - val_loss: 0.3562 - val_acc: 0.8845\n",
            "Epoch 83/100\n",
            "313/312 [==============================] - 27s 86ms/step - loss: 0.2375 - acc: 0.9157 - val_loss: 0.3555 - val_acc: 0.8884\n",
            "Epoch 84/100\n",
            "313/312 [==============================] - 28s 89ms/step - loss: 0.2395 - acc: 0.9166 - val_loss: 0.3639 - val_acc: 0.8854\n",
            "Epoch 85/100\n",
            "313/312 [==============================] - 27s 87ms/step - loss: 0.2345 - acc: 0.9165 - val_loss: 0.3618 - val_acc: 0.8856\n",
            "Epoch 86/100\n",
            "313/312 [==============================] - 27s 86ms/step - loss: 0.2385 - acc: 0.9153 - val_loss: 0.3659 - val_acc: 0.8845\n",
            "Epoch 87/100\n",
            "313/312 [==============================] - 27s 87ms/step - loss: 0.2282 - acc: 0.9207 - val_loss: 0.3596 - val_acc: 0.8889\n",
            "Epoch 88/100\n",
            "313/312 [==============================] - 27s 86ms/step - loss: 0.2287 - acc: 0.9204 - val_loss: 0.3717 - val_acc: 0.8830\n",
            "Epoch 89/100\n",
            "313/312 [==============================] - 27s 87ms/step - loss: 0.2357 - acc: 0.9182 - val_loss: 0.3569 - val_acc: 0.8862\n",
            "Epoch 90/100\n",
            "313/312 [==============================] - 27s 85ms/step - loss: 0.2291 - acc: 0.9187 - val_loss: 0.3640 - val_acc: 0.8856\n",
            "Epoch 91/100\n",
            "313/312 [==============================] - 27s 87ms/step - loss: 0.2256 - acc: 0.9209 - val_loss: 0.3683 - val_acc: 0.8867\n",
            "Epoch 92/100\n",
            "313/312 [==============================] - 27s 85ms/step - loss: 0.2244 - acc: 0.9218 - val_loss: 0.3654 - val_acc: 0.8868\n",
            "Epoch 93/100\n",
            "313/312 [==============================] - 27s 87ms/step - loss: 0.2265 - acc: 0.9199 - val_loss: 0.3593 - val_acc: 0.8899\n",
            "Epoch 94/100\n",
            "313/312 [==============================] - 27s 87ms/step - loss: 0.2214 - acc: 0.9221 - val_loss: 0.3479 - val_acc: 0.8894\n",
            "Epoch 95/100\n",
            "313/312 [==============================] - 27s 85ms/step - loss: 0.2190 - acc: 0.9230 - val_loss: 0.3632 - val_acc: 0.8895\n",
            "Epoch 96/100\n",
            "313/312 [==============================] - 28s 90ms/step - loss: 0.2206 - acc: 0.9217 - val_loss: 0.3560 - val_acc: 0.8884\n",
            "Epoch 97/100\n",
            "313/312 [==============================] - 26s 84ms/step - loss: 0.2196 - acc: 0.9231 - val_loss: 0.3506 - val_acc: 0.8890\n",
            "Epoch 98/100\n",
            "313/312 [==============================] - 27s 88ms/step - loss: 0.2206 - acc: 0.9225 - val_loss: 0.3641 - val_acc: 0.8858\n",
            "Epoch 99/100\n",
            "313/312 [==============================] - 27s 85ms/step - loss: 0.2203 - acc: 0.9224 - val_loss: 0.3589 - val_acc: 0.8898\n",
            "Epoch 100/100\n",
            "313/312 [==============================] - 26s 85ms/step - loss: 0.2163 - acc: 0.9245 - val_loss: 0.3533 - val_acc: 0.8928\n"
          ],
          "name": "stdout"
        }
      ]
    },
    {
      "metadata": {
        "id": "3Rizc_XYDbeN",
        "colab_type": "code",
        "colab": {
          "base_uri": "https://localhost:8080/",
          "height": 279
        },
        "outputId": "a3644958-eaf3-4ef5-a651-8183a8ffc84a"
      },
      "cell_type": "code",
      "source": [
        "import matplotlib.pyplot as plt\n",
        "%matplotlib inline\n",
        "\n",
        "acc = history2.history['acc']\n",
        "val_acc = history2.history['val_acc']\n",
        "\n",
        "epochs = range(len(acc))\n",
        "\n",
        "plt.plot(epochs, acc, 'bo', label='Training acc')\n",
        "plt.plot(epochs, val_acc, 'r', label='Validation acc')\n",
        "plt.xlabel('Epochs')\n",
        "plt.ylabel('Accuracy')\n",
        "plt.legend()\n",
        "plt.show()"
      ],
      "execution_count": 31,
      "outputs": [
        {
          "output_type": "display_data",
          "data": {
            "image/png": "[encoded data removed]",
            "text/plain": [
              "<Figure size 432x288 with 1 Axes>"
            ]
          },
          "metadata": {
            "tags": []
          }
        }
      ]
    },
    {
      "metadata": {
        "id": "aKVrvzxdl-YZ",
        "colab_type": "text"
      },
      "cell_type": "markdown",
      "source": [
        "## 3. Train (again) and evaluate the model\n",
        "\n",
        "- To this end, you have found the \"best\" hyper-parameters. \n",
        "- Now, fix the hyper-parameters and train the network on the entire training set (all the 50K training samples)\n",
        "- Evaluate your model on the test set."
      ]
    },
    {
      "metadata": {
        "id": "9NEnXoZgl-Yf",
        "colab_type": "text"
      },
      "cell_type": "markdown",
      "source": [
        "### 3.1. Train the model on the entire training set\n",
        "\n",
        "Why? Previously, you used 40K samples for training; you wasted 10K samples for the sake of hyper-parameter tuning. Now you already know the hyper-parameters, so why not using all the 50K samples for training?"
      ]
    },
    {
      "metadata": {
        "id": "rS0KMndBC_rN",
        "colab_type": "code",
        "colab": {}
      },
      "cell_type": "code",
      "source": [
        "model2.compile(loss='categorical_crossentropy', metrics=['accuracy'],optimizer=opt2)"
      ],
      "execution_count": 0,
      "outputs": []
    },
    {
      "metadata": {
        "id": "iBgRZG-0l-Y0",
        "colab_type": "code",
        "outputId": "d6814186-7a99-4167-fc4f-4bd420cd2ef0",
        "colab": {
          "base_uri": "https://localhost:8080/",
          "height": 195
        }
      },
      "cell_type": "code",
      "source": [
        "history3 = model2.fit(x_train, y_train_vec, batch_size=128, epochs=5)"
      ],
      "execution_count": 49,
      "outputs": [
        {
          "output_type": "stream",
          "text": [
            "Epoch 1/5\n",
            "50000/50000 [==============================] - 28s 563us/step - loss: 0.1264 - acc: 0.9559\n",
            "Epoch 2/5\n",
            "50000/50000 [==============================] - 23s 466us/step - loss: 0.0340 - acc: 0.9888\n",
            "Epoch 3/5\n",
            "50000/50000 [==============================] - 23s 465us/step - loss: 0.0175 - acc: 0.9948\n",
            "Epoch 4/5\n",
            "50000/50000 [==============================] - 23s 464us/step - loss: 0.0123 - acc: 0.9966\n",
            "Epoch 5/5\n",
            "50000/50000 [==============================] - 23s 460us/step - loss: 0.0109 - acc: 0.9965\n"
          ],
          "name": "stdout"
        }
      ]
    },
    {
      "metadata": {
        "id": "NKkHD9yel-ZA",
        "colab_type": "text"
      },
      "cell_type": "markdown",
      "source": [
        "### 3.2. Evaluate the model on the test set\n",
        "\n",
        "Do NOT used the test set until now. Make sure that your model parameters and hyper-parameters are independent of the test set."
      ]
    },
    {
      "metadata": {
        "id": "bFwceEgzl-ZE",
        "colab_type": "code",
        "outputId": "fe815b97-30d3-46db-bfdc-f7268e2c1aea",
        "colab": {
          "base_uri": "https://localhost:8080/",
          "height": 70
        }
      },
      "cell_type": "code",
      "source": [
        "loss_and_acc = model2.evaluate(x_test, y_test_vec)\n",
        "print('loss = ' + str(loss_and_acc[0]))\n",
        "print('accuracy = ' + str(loss_and_acc[1]))"
      ],
      "execution_count": 50,
      "outputs": [
        {
          "output_type": "stream",
          "text": [
            "10000/10000 [==============================] - 4s 415us/step\n",
            "loss = 0.6905957343637943\n",
            "accuracy = 0.8737\n"
          ],
          "name": "stdout"
        }
      ]
    }
  ]
}